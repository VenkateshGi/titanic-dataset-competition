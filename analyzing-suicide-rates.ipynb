{
 "cells": [
  {
   "cell_type": "markdown",
   "metadata": {
    "_uuid": "d9bb28cf878f211aa9a14a52c92c26ab742eec9c"
   },
   "source": [
    "Let's get started,"
   ]
  },
  {
   "cell_type": "code",
   "execution_count": 1,
   "metadata": {
    "_cell_guid": "b1076dfc-b9ad-4769-8c92-a6c4dae69d19",
    "_uuid": "8f2839f25d086af736a60e9eeb907d3b93b6e0e5"
   },
   "outputs": [
    {
     "name": "stdout",
     "output_type": "stream",
     "text": [
      "['master.csv']\n"
     ]
    }
   ],
   "source": [
    "# This Python 3 environment comes with many helpful analytics libraries installed\n",
    "# It is defined by the kaggle/python docker image: https://github.com/kaggle/docker-python\n",
    "# For example, here's several helpful packages to load in \n",
    "\n",
    "import numpy as np # linear algebra\n",
    "import pandas as pd # data processing, CSV file I/O (e.g. pd.read_csv)\n",
    "import matplotlib.pyplot as plt\n",
    "import seaborn as sns\n",
    "\n",
    "# Input data files are available in the \"../input/\" directory.\n",
    "# For example, running this (by clicking run or pressing Shift+Enter) will list the files in the input directory\n",
    "\n",
    "import os\n",
    "print(os.listdir(\"../input\"))\n",
    "\n",
    "# Any results you write to the current directory are saved as output."
   ]
  },
  {
   "cell_type": "code",
   "execution_count": 2,
   "metadata": {
    "_cell_guid": "79c7e3d0-c299-4dcb-8224-4455121ee9b0",
    "_uuid": "d629ff2d2480ee46fbb7e2d37f6b5fab8052498a"
   },
   "outputs": [],
   "source": [
    "df = pd.read_csv(\"../input/master.csv\")"
   ]
  },
  {
   "cell_type": "code",
   "execution_count": 3,
   "metadata": {
    "_uuid": "86d81d64857f0e33594d6dc8a7abb11bb4e7dccb"
   },
   "outputs": [],
   "source": []
  },
  {
   "cell_type": "code",
   "execution_count": 3,
   "metadata": {
    "_uuid": "a63261823ade98f4521136e58bdb04dfe7ee2416"
   },
   "outputs": [
    {
     "data": {
      "text/html": [
       "<div>\n",
       "<style scoped>\n",
       "    .dataframe tbody tr th:only-of-type {\n",
       "        vertical-align: middle;\n",
       "    }\n",
       "\n",
       "    .dataframe tbody tr th {\n",
       "        vertical-align: top;\n",
       "    }\n",
       "\n",
       "    .dataframe thead th {\n",
       "        text-align: right;\n",
       "    }\n",
       "</style>\n",
       "<table border=\"1\" class=\"dataframe\">\n",
       "  <thead>\n",
       "    <tr style=\"text-align: right;\">\n",
       "      <th></th>\n",
       "      <th>country</th>\n",
       "      <th>year</th>\n",
       "      <th>sex</th>\n",
       "      <th>age</th>\n",
       "      <th>suicides_no</th>\n",
       "      <th>population</th>\n",
       "      <th>suicides/100k pop</th>\n",
       "      <th>country-year</th>\n",
       "      <th>HDI for year</th>\n",
       "      <th>gdp_for_year ($)</th>\n",
       "      <th>gdp_per_capita ($)</th>\n",
       "      <th>generation</th>\n",
       "    </tr>\n",
       "  </thead>\n",
       "  <tbody>\n",
       "    <tr>\n",
       "      <th>0</th>\n",
       "      <td>Albania</td>\n",
       "      <td>1987</td>\n",
       "      <td>male</td>\n",
       "      <td>15-24 years</td>\n",
       "      <td>21</td>\n",
       "      <td>312900</td>\n",
       "      <td>6.71</td>\n",
       "      <td>Albania1987</td>\n",
       "      <td>NaN</td>\n",
       "      <td>2,156,624,900</td>\n",
       "      <td>796</td>\n",
       "      <td>Generation X</td>\n",
       "    </tr>\n",
       "    <tr>\n",
       "      <th>1</th>\n",
       "      <td>Albania</td>\n",
       "      <td>1987</td>\n",
       "      <td>male</td>\n",
       "      <td>35-54 years</td>\n",
       "      <td>16</td>\n",
       "      <td>308000</td>\n",
       "      <td>5.19</td>\n",
       "      <td>Albania1987</td>\n",
       "      <td>NaN</td>\n",
       "      <td>2,156,624,900</td>\n",
       "      <td>796</td>\n",
       "      <td>Silent</td>\n",
       "    </tr>\n",
       "    <tr>\n",
       "      <th>2</th>\n",
       "      <td>Albania</td>\n",
       "      <td>1987</td>\n",
       "      <td>female</td>\n",
       "      <td>15-24 years</td>\n",
       "      <td>14</td>\n",
       "      <td>289700</td>\n",
       "      <td>4.83</td>\n",
       "      <td>Albania1987</td>\n",
       "      <td>NaN</td>\n",
       "      <td>2,156,624,900</td>\n",
       "      <td>796</td>\n",
       "      <td>Generation X</td>\n",
       "    </tr>\n",
       "    <tr>\n",
       "      <th>3</th>\n",
       "      <td>Albania</td>\n",
       "      <td>1987</td>\n",
       "      <td>male</td>\n",
       "      <td>75+ years</td>\n",
       "      <td>1</td>\n",
       "      <td>21800</td>\n",
       "      <td>4.59</td>\n",
       "      <td>Albania1987</td>\n",
       "      <td>NaN</td>\n",
       "      <td>2,156,624,900</td>\n",
       "      <td>796</td>\n",
       "      <td>G.I. Generation</td>\n",
       "    </tr>\n",
       "    <tr>\n",
       "      <th>4</th>\n",
       "      <td>Albania</td>\n",
       "      <td>1987</td>\n",
       "      <td>male</td>\n",
       "      <td>25-34 years</td>\n",
       "      <td>9</td>\n",
       "      <td>274300</td>\n",
       "      <td>3.28</td>\n",
       "      <td>Albania1987</td>\n",
       "      <td>NaN</td>\n",
       "      <td>2,156,624,900</td>\n",
       "      <td>796</td>\n",
       "      <td>Boomers</td>\n",
       "    </tr>\n",
       "  </tbody>\n",
       "</table>\n",
       "</div>"
      ],
      "text/plain": [
       "   country  year       ...        gdp_per_capita ($)       generation\n",
       "0  Albania  1987       ...                       796     Generation X\n",
       "1  Albania  1987       ...                       796           Silent\n",
       "2  Albania  1987       ...                       796     Generation X\n",
       "3  Albania  1987       ...                       796  G.I. Generation\n",
       "4  Albania  1987       ...                       796          Boomers\n",
       "\n",
       "[5 rows x 12 columns]"
      ]
     },
     "execution_count": 3,
     "metadata": {},
     "output_type": "execute_result"
    }
   ],
   "source": [
    "df.head(5)"
   ]
  },
  {
   "cell_type": "markdown",
   "metadata": {
    "_uuid": "42a3083917c34708839a32f0ad2c3a289e3c6701"
   },
   "source": [
    "Are there any Nan Values???"
   ]
  },
  {
   "cell_type": "code",
   "execution_count": 4,
   "metadata": {
    "_uuid": "eacdd436ddbaefb07a0eb39d844da6ef337abbd1"
   },
   "outputs": [
    {
     "data": {
      "text/plain": [
       "country                   0\n",
       "year                      0\n",
       "sex                       0\n",
       "age                       0\n",
       "suicides_no               0\n",
       "population                0\n",
       "suicides/100k pop         0\n",
       "country-year              0\n",
       "HDI for year          19456\n",
       " gdp_for_year ($)         0\n",
       "gdp_per_capita ($)        0\n",
       "generation                0\n",
       "dtype: int64"
      ]
     },
     "execution_count": 4,
     "metadata": {},
     "output_type": "execute_result"
    }
   ],
   "source": [
    "df.isna().sum()"
   ]
  },
  {
   "cell_type": "markdown",
   "metadata": {
    "_uuid": "3015844db224f1b4e4792258989db19da3bc3da1"
   },
   "source": [
    "HDI for Year has Nan values, But I am not considering that column,\n",
    "* So let me take columns which I analyze."
   ]
  },
  {
   "cell_type": "markdown",
   "metadata": {
    "_uuid": "5f3769ab1a2ad3371e9e41d217bc46c8d35cf403"
   },
   "source": [
    "\"Suicides/100k pop\" is correct for analyzing as it depicts,\n",
    "**\"how many suicides occured for 100000 population?\"**"
   ]
  },
  {
   "cell_type": "code",
   "execution_count": 5,
   "metadata": {
    "_uuid": "ebb1c9abc4c728adb7279f1566a3c92c1fd37ba4"
   },
   "outputs": [],
   "source": [
    "first_obs = df[[\"country\",\"year\",\"sex\",\"age\",\"suicides/100k pop\"]]"
   ]
  },
  {
   "cell_type": "code",
   "execution_count": 6,
   "metadata": {
    "_uuid": "96b5611658f2b3d34df719920156f82fd219b2a3"
   },
   "outputs": [
    {
     "data": {
      "text/html": [
       "<div>\n",
       "<style scoped>\n",
       "    .dataframe tbody tr th:only-of-type {\n",
       "        vertical-align: middle;\n",
       "    }\n",
       "\n",
       "    .dataframe tbody tr th {\n",
       "        vertical-align: top;\n",
       "    }\n",
       "\n",
       "    .dataframe thead th {\n",
       "        text-align: right;\n",
       "    }\n",
       "</style>\n",
       "<table border=\"1\" class=\"dataframe\">\n",
       "  <thead>\n",
       "    <tr style=\"text-align: right;\">\n",
       "      <th></th>\n",
       "      <th>country</th>\n",
       "      <th>year</th>\n",
       "      <th>sex</th>\n",
       "      <th>age</th>\n",
       "      <th>suicides/100k pop</th>\n",
       "    </tr>\n",
       "  </thead>\n",
       "  <tbody>\n",
       "    <tr>\n",
       "      <th>0</th>\n",
       "      <td>Albania</td>\n",
       "      <td>1987</td>\n",
       "      <td>male</td>\n",
       "      <td>15-24 years</td>\n",
       "      <td>6.71</td>\n",
       "    </tr>\n",
       "    <tr>\n",
       "      <th>1</th>\n",
       "      <td>Albania</td>\n",
       "      <td>1987</td>\n",
       "      <td>male</td>\n",
       "      <td>35-54 years</td>\n",
       "      <td>5.19</td>\n",
       "    </tr>\n",
       "    <tr>\n",
       "      <th>2</th>\n",
       "      <td>Albania</td>\n",
       "      <td>1987</td>\n",
       "      <td>female</td>\n",
       "      <td>15-24 years</td>\n",
       "      <td>4.83</td>\n",
       "    </tr>\n",
       "    <tr>\n",
       "      <th>3</th>\n",
       "      <td>Albania</td>\n",
       "      <td>1987</td>\n",
       "      <td>male</td>\n",
       "      <td>75+ years</td>\n",
       "      <td>4.59</td>\n",
       "    </tr>\n",
       "    <tr>\n",
       "      <th>4</th>\n",
       "      <td>Albania</td>\n",
       "      <td>1987</td>\n",
       "      <td>male</td>\n",
       "      <td>25-34 years</td>\n",
       "      <td>3.28</td>\n",
       "    </tr>\n",
       "  </tbody>\n",
       "</table>\n",
       "</div>"
      ],
      "text/plain": [
       "   country  year     sex          age  suicides/100k pop\n",
       "0  Albania  1987    male  15-24 years               6.71\n",
       "1  Albania  1987    male  35-54 years               5.19\n",
       "2  Albania  1987  female  15-24 years               4.83\n",
       "3  Albania  1987    male    75+ years               4.59\n",
       "4  Albania  1987    male  25-34 years               3.28"
      ]
     },
     "execution_count": 6,
     "metadata": {},
     "output_type": "execute_result"
    }
   ],
   "source": [
    "first_obs.head()"
   ]
  },
  {
   "cell_type": "markdown",
   "metadata": {
    "_uuid": "1df4379b4311a8ffd744efb25a0cab92ca4adafa"
   },
   "source": [
    "**Modifying the \"year\" attribute**"
   ]
  },
  {
   "cell_type": "code",
   "execution_count": 7,
   "metadata": {
    "_uuid": "b14a0725cc0b827171669c511218b96452ee6306"
   },
   "outputs": [
    {
     "name": "stdout",
     "output_type": "stream",
     "text": [
      "Min :  1985\n",
      "Max :  2016\n"
     ]
    }
   ],
   "source": [
    "print(\"Min : \",first_obs.year.min())\n",
    "print(\"Max : \",first_obs.year.max())"
   ]
  },
  {
   "cell_type": "code",
   "execution_count": 8,
   "metadata": {
    "_uuid": "70bdbe0d58506c9ae9a72b785bfebe11dd751584"
   },
   "outputs": [
    {
     "data": {
      "text/plain": [
       "32"
      ]
     },
     "execution_count": 8,
     "metadata": {},
     "output_type": "execute_result"
    }
   ],
   "source": [
    "len(first_obs.year.unique())"
   ]
  },
  {
   "cell_type": "markdown",
   "metadata": {
    "_uuid": "fda7f034f2e3ce129532a04fceee995659494c8d"
   },
   "source": [
    "I would like to analyze based on decades, so I would like to modify the year group as below."
   ]
  },
  {
   "cell_type": "code",
   "execution_count": 9,
   "metadata": {
    "_uuid": "712771729302d8e1ecd00583a14a00eac6176f8a"
   },
   "outputs": [
    {
     "name": "stderr",
     "output_type": "stream",
     "text": [
      "/opt/conda/lib/python3.6/site-packages/pandas/core/generic.py:4405: SettingWithCopyWarning: \n",
      "A value is trying to be set on a copy of a slice from a DataFrame.\n",
      "Try using .loc[row_indexer,col_indexer] = value instead\n",
      "\n",
      "See the caveats in the documentation: http://pandas.pydata.org/pandas-docs/stable/indexing.html#indexing-view-versus-copy\n",
      "  self[name] = value\n"
     ]
    }
   ],
   "source": [
    "def decade_mapping(data):\n",
    "    if 1987<= data <= 1996:\n",
    "        return \"1987-1996\"\n",
    "    elif 1997<= data <= 2006:\n",
    "        return \"1997-2006\"\n",
    "    else:\n",
    "        return \"2007-2016\"\n",
    "first_obs.year = first_obs.year.apply(decade_mapping)"
   ]
  },
  {
   "cell_type": "code",
   "execution_count": 10,
   "metadata": {
    "_uuid": "b35ddbb6cd3a193c47c07cac94e8be2a86c32b99"
   },
   "outputs": [
    {
     "data": {
      "text/html": [
       "<div>\n",
       "<style scoped>\n",
       "    .dataframe tbody tr th:only-of-type {\n",
       "        vertical-align: middle;\n",
       "    }\n",
       "\n",
       "    .dataframe tbody tr th {\n",
       "        vertical-align: top;\n",
       "    }\n",
       "\n",
       "    .dataframe thead th {\n",
       "        text-align: right;\n",
       "    }\n",
       "</style>\n",
       "<table border=\"1\" class=\"dataframe\">\n",
       "  <thead>\n",
       "    <tr style=\"text-align: right;\">\n",
       "      <th></th>\n",
       "      <th>country</th>\n",
       "      <th>year</th>\n",
       "      <th>sex</th>\n",
       "      <th>age</th>\n",
       "      <th>suicides/100k pop</th>\n",
       "    </tr>\n",
       "  </thead>\n",
       "  <tbody>\n",
       "    <tr>\n",
       "      <th>17943</th>\n",
       "      <td>Norway</td>\n",
       "      <td>1987-1996</td>\n",
       "      <td>male</td>\n",
       "      <td>35-54 years</td>\n",
       "      <td>24.87</td>\n",
       "    </tr>\n",
       "  </tbody>\n",
       "</table>\n",
       "</div>"
      ],
      "text/plain": [
       "      country       year        ...                 age suicides/100k pop\n",
       "17943  Norway  1987-1996        ...         35-54 years             24.87\n",
       "\n",
       "[1 rows x 5 columns]"
      ]
     },
     "execution_count": 10,
     "metadata": {},
     "output_type": "execute_result"
    }
   ],
   "source": [
    "first_obs.sample()"
   ]
  },
  {
   "cell_type": "markdown",
   "metadata": {
    "_uuid": "b10f1e44da12a3c7b4447a58051c011db7268a3f"
   },
   "source": [
    "**Let's start finding insights and see some visualizations**"
   ]
  },
  {
   "cell_type": "markdown",
   "metadata": {
    "_uuid": "79f83bbe4549c105601aebd9c6d529369333f400"
   },
   "source": [
    "1. Suicides based on Age, Gender"
   ]
  },
  {
   "cell_type": "code",
   "execution_count": 11,
   "metadata": {
    "_uuid": "60284b69586537b299dc016240fc2ba322e04558"
   },
   "outputs": [
    {
     "data": {
      "text/plain": [
       "(array([0, 1, 2, 3, 4, 5]), <a list of 6 Text xticklabel objects>)"
      ]
     },
     "execution_count": 11,
     "metadata": {},
     "output_type": "execute_result"
    },
    {
     "data": {
      "image/png": "[encoded data removed]",
      "text/plain": [
       "<Figure size 720x360 with 1 Axes>"
      ]
     },
     "metadata": {},
     "output_type": "display_data"
    }
   ],
   "source": [
    "plt.figure(figsize=(10,5))\n",
    "sns.barplot(x = \"age\", y = \"suicides/100k pop\", hue = \"sex\",data = first_obs.groupby([\"age\",\"sex\"]).sum().reset_index()).set_title(\"Age vs Suicides\")\n",
    "plt.xticks(rotation = 90)"
   ]
  },
  {
   "cell_type": "markdown",
   "metadata": {
    "_uuid": "8f92439f30fafb7a1bf270aa6de7e7e2dc42906e"
   },
   "source": [
    "As you see, as the age increases, suicide rates is increasing irrespective of Gender"
   ]
  },
  {
   "cell_type": "code",
   "execution_count": 12,
   "metadata": {
    "_uuid": "a34bcee47054419421eaab72eb7143b15d99c01f"
   },
   "outputs": [
    {
     "data": {
      "text/html": [
       "<div>\n",
       "<style scoped>\n",
       "    .dataframe tbody tr th:only-of-type {\n",
       "        vertical-align: middle;\n",
       "    }\n",
       "\n",
       "    .dataframe tbody tr th {\n",
       "        vertical-align: top;\n",
       "    }\n",
       "\n",
       "    .dataframe thead th {\n",
       "        text-align: right;\n",
       "    }\n",
       "</style>\n",
       "<table border=\"1\" class=\"dataframe\">\n",
       "  <thead>\n",
       "    <tr style=\"text-align: right;\">\n",
       "      <th></th>\n",
       "      <th>year</th>\n",
       "      <th>sex</th>\n",
       "      <th>suicides/100k pop</th>\n",
       "    </tr>\n",
       "  </thead>\n",
       "  <tbody>\n",
       "    <tr>\n",
       "      <th>0</th>\n",
       "      <td>1987-1996</td>\n",
       "      <td>female</td>\n",
       "      <td>23483.82</td>\n",
       "    </tr>\n",
       "    <tr>\n",
       "      <th>1</th>\n",
       "      <td>1987-1996</td>\n",
       "      <td>male</td>\n",
       "      <td>81376.54</td>\n",
       "    </tr>\n",
       "    <tr>\n",
       "      <th>2</th>\n",
       "      <td>1997-2006</td>\n",
       "      <td>female</td>\n",
       "      <td>27593.97</td>\n",
       "    </tr>\n",
       "    <tr>\n",
       "      <th>3</th>\n",
       "      <td>1997-2006</td>\n",
       "      <td>male</td>\n",
       "      <td>108280.25</td>\n",
       "    </tr>\n",
       "    <tr>\n",
       "      <th>4</th>\n",
       "      <td>2007-2016</td>\n",
       "      <td>female</td>\n",
       "      <td>23936.98</td>\n",
       "    </tr>\n",
       "    <tr>\n",
       "      <th>5</th>\n",
       "      <td>2007-2016</td>\n",
       "      <td>male</td>\n",
       "      <td>91872.27</td>\n",
       "    </tr>\n",
       "  </tbody>\n",
       "</table>\n",
       "</div>"
      ],
      "text/plain": [
       "        year     sex  suicides/100k pop\n",
       "0  1987-1996  female           23483.82\n",
       "1  1987-1996    male           81376.54\n",
       "2  1997-2006  female           27593.97\n",
       "3  1997-2006    male          108280.25\n",
       "4  2007-2016  female           23936.98\n",
       "5  2007-2016    male           91872.27"
      ]
     },
     "execution_count": 12,
     "metadata": {},
     "output_type": "execute_result"
    }
   ],
   "source": [
    "first_obs.groupby([\"year\",\"sex\"]).sum().reset_index()"
   ]
  },
  {
   "cell_type": "markdown",
   "metadata": {
    "_uuid": "f4d6f06c5dc12410d89a1c0cb4b7b307bc0bcebe"
   },
   "source": [
    "2. Suicides based on Decades, Gender"
   ]
  },
  {
   "cell_type": "code",
   "execution_count": 13,
   "metadata": {
    "_uuid": "9b843acc37c80c6947af4eea45160a2ab2af818b"
   },
   "outputs": [
    {
     "data": {
      "text/plain": [
       "Text(0.5,1,'Decades vs Suicides')"
      ]
     },
     "execution_count": 13,
     "metadata": {},
     "output_type": "execute_result"
    },
    {
     "data": {
      "image/png": "[encoded data removed]",
      "text/plain": [
       "<Figure size 720x360 with 1 Axes>"
      ]
     },
     "metadata": {},
     "output_type": "display_data"
    }
   ],
   "source": [
    "plt.figure(figsize=(10,5))\n",
    "sns.barplot(x = \"year\", y = \"suicides/100k pop\", hue = \"sex\",data = first_obs.groupby([\"year\",\"sex\"]).sum().reset_index()).set_title(\"Decades vs Suicides\")"
   ]
  },
  {
   "cell_type": "markdown",
   "metadata": {
    "_uuid": "4acf44a0e8c9db205d19ed68347f9a7ce0c8ddc5"
   },
   "source": [
    "\"1997 - 2006\" decade has seen more deaths(suicides)"
   ]
  },
  {
   "cell_type": "code",
   "execution_count": 14,
   "metadata": {
    "_uuid": "2736c2e1bf556c29d90dffd688020078e2f6a643"
   },
   "outputs": [
    {
     "data": {
      "text/plain": [
       "Text(0.5,1,'Gender wise Suicides')"
      ]
     },
     "execution_count": 14,
     "metadata": {},
     "output_type": "execute_result"
    },
    {
     "data": {
      "image/png": "[encoded data removed]",
      "text/plain": [
       "<Figure size 432x288 with 1 Axes>"
      ]
     },
     "metadata": {},
     "output_type": "display_data"
    }
   ],
   "source": [
    "sns.barplot(x = \"sex\", y = \"suicides/100k pop\", data = first_obs.groupby(\"sex\").sum().reset_index()).set_title(\"Gender wise Suicides\")"
   ]
  },
  {
   "cell_type": "markdown",
   "metadata": {
    "_uuid": "773cde98e076f1eaeb1e9a5b2dbf1b1ade48be68"
   },
   "source": [
    "As you see, male suicides are higher than female suicides"
   ]
  },
  {
   "cell_type": "markdown",
   "metadata": {
    "_uuid": "7e03c0cc9bb30ac4eb20d349015bd1609ca6e2f7"
   },
   "source": [
    "**Country wise Suicide Analysis**"
   ]
  },
  {
   "cell_type": "code",
   "execution_count": 15,
   "metadata": {
    "_uuid": "6bc629789cd2c4c75e87d977de4c3d42c4b72464"
   },
   "outputs": [
    {
     "data": {
      "text/html": [
       "<div>\n",
       "<style scoped>\n",
       "    .dataframe tbody tr th:only-of-type {\n",
       "        vertical-align: middle;\n",
       "    }\n",
       "\n",
       "    .dataframe tbody tr th {\n",
       "        vertical-align: top;\n",
       "    }\n",
       "\n",
       "    .dataframe thead th {\n",
       "        text-align: right;\n",
       "    }\n",
       "</style>\n",
       "<table border=\"1\" class=\"dataframe\">\n",
       "  <thead>\n",
       "    <tr style=\"text-align: right;\">\n",
       "      <th></th>\n",
       "      <th>country</th>\n",
       "      <th>suicides/100k pop</th>\n",
       "    </tr>\n",
       "  </thead>\n",
       "  <tbody>\n",
       "    <tr>\n",
       "      <th>0</th>\n",
       "      <td>Albania</td>\n",
       "      <td>924.76</td>\n",
       "    </tr>\n",
       "    <tr>\n",
       "      <th>1</th>\n",
       "      <td>Antigua and Barbuda</td>\n",
       "      <td>179.14</td>\n",
       "    </tr>\n",
       "    <tr>\n",
       "      <th>2</th>\n",
       "      <td>Argentina</td>\n",
       "      <td>3894.59</td>\n",
       "    </tr>\n",
       "    <tr>\n",
       "      <th>3</th>\n",
       "      <td>Armenia</td>\n",
       "      <td>976.21</td>\n",
       "    </tr>\n",
       "    <tr>\n",
       "      <th>4</th>\n",
       "      <td>Aruba</td>\n",
       "      <td>1596.52</td>\n",
       "    </tr>\n",
       "  </tbody>\n",
       "</table>\n",
       "</div>"
      ],
      "text/plain": [
       "               country  suicides/100k pop\n",
       "0              Albania             924.76\n",
       "1  Antigua and Barbuda             179.14\n",
       "2            Argentina            3894.59\n",
       "3              Armenia             976.21\n",
       "4                Aruba            1596.52"
      ]
     },
     "execution_count": 15,
     "metadata": {},
     "output_type": "execute_result"
    }
   ],
   "source": [
    "country_sucides = first_obs.groupby(\"country\").sum().reset_index()\n",
    "country_sucides.head()"
   ]
  },
  {
   "cell_type": "markdown",
   "metadata": {
    "_uuid": "09e4212cd566e97434ac18afd0b3fd97a2513a15"
   },
   "source": [
    "**Which countries have less suicides?**"
   ]
  },
  {
   "cell_type": "code",
   "execution_count": 16,
   "metadata": {
    "_uuid": "09118040dbbabac1395bd49d0a0366128711f5d9"
   },
   "outputs": [
    {
     "data": {
      "text/plain": [
       "(array([0, 1, 2, 3, 4, 5, 6, 7, 8, 9]), <a list of 10 Text xticklabel objects>)"
      ]
     },
     "execution_count": 16,
     "metadata": {},
     "output_type": "execute_result"
    },
    {
     "data": {
      "image/png": "[encoded data removed]",
      "text/plain": [
       "<Figure size 720x360 with 1 Axes>"
      ]
     },
     "metadata": {},
     "output_type": "display_data"
    }
   ],
   "source": [
    "plt.figure(figsize=(10,5))\n",
    "best_10 = country_sucides.sort_values(by = \"suicides/100k pop\",ascending= True)[:10]\n",
    "sns.barplot(x = \"country\", y = \"suicides/100k pop\", data = best_10).set_title(\"countries with less suicides\")\n",
    "plt.xticks(rotation = 90)"
   ]
  },
  {
   "cell_type": "markdown",
   "metadata": {
    "_uuid": "8ef6f8b9c174df558763011e16330b1ebf59a7d1"
   },
   "source": [
    "**10 countries with most suicides**"
   ]
  },
  {
   "cell_type": "code",
   "execution_count": 17,
   "metadata": {
    "_uuid": "ab43e2a66a7f63ddfdcf57795fc525fb3c7ca0f8"
   },
   "outputs": [
    {
     "data": {
      "text/plain": [
       "(array([0, 1, 2, 3, 4, 5, 6, 7, 8, 9]), <a list of 10 Text xticklabel objects>)"
      ]
     },
     "execution_count": 17,
     "metadata": {},
     "output_type": "execute_result"
    },
    {
     "data": {
      "image/png": "[encoded data removed]",
      "text/plain": [
       "<Figure size 720x360 with 1 Axes>"
      ]
     },
     "metadata": {},
     "output_type": "display_data"
    }
   ],
   "source": [
    "plt.figure(figsize=(10,5))\n",
    "best_10 = country_sucides.sort_values(by = \"suicides/100k pop\",ascending= False)[:10]\n",
    "sns.barplot(x = \"country\", y = \"suicides/100k pop\", data = best_10).set_title(\"Countries with most suicides\")\n",
    "plt.xticks(rotation = 90)"
   ]
  },
  {
   "cell_type": "markdown",
   "metadata": {
    "_uuid": "d1c32fc002c8cca0a073242fd07552089d41b80c"
   },
   "source": [
    "**Which countries have most/less suicides recently????**"
   ]
  },
  {
   "cell_type": "code",
   "execution_count": 18,
   "metadata": {
    "_uuid": "cd9be890bb0f56b460553c2cee080f699263296d"
   },
   "outputs": [
    {
     "data": {
      "text/html": [
       "<div>\n",
       "<style scoped>\n",
       "    .dataframe tbody tr th:only-of-type {\n",
       "        vertical-align: middle;\n",
       "    }\n",
       "\n",
       "    .dataframe tbody tr th {\n",
       "        vertical-align: top;\n",
       "    }\n",
       "\n",
       "    .dataframe thead th {\n",
       "        text-align: right;\n",
       "    }\n",
       "</style>\n",
       "<table border=\"1\" class=\"dataframe\">\n",
       "  <thead>\n",
       "    <tr style=\"text-align: right;\">\n",
       "      <th></th>\n",
       "      <th>country</th>\n",
       "      <th>suicides/100k pop</th>\n",
       "    </tr>\n",
       "  </thead>\n",
       "  <tbody>\n",
       "    <tr>\n",
       "      <th>0</th>\n",
       "      <td>Albania</td>\n",
       "      <td>178.56</td>\n",
       "    </tr>\n",
       "    <tr>\n",
       "      <th>1</th>\n",
       "      <td>Antigua and Barbuda</td>\n",
       "      <td>23.60</td>\n",
       "    </tr>\n",
       "    <tr>\n",
       "      <th>2</th>\n",
       "      <td>Argentina</td>\n",
       "      <td>1294.98</td>\n",
       "    </tr>\n",
       "    <tr>\n",
       "      <th>3</th>\n",
       "      <td>Armenia</td>\n",
       "      <td>378.16</td>\n",
       "    </tr>\n",
       "    <tr>\n",
       "      <th>4</th>\n",
       "      <td>Aruba</td>\n",
       "      <td>327.93</td>\n",
       "    </tr>\n",
       "  </tbody>\n",
       "</table>\n",
       "</div>"
      ],
      "text/plain": [
       "               country  suicides/100k pop\n",
       "0              Albania             178.56\n",
       "1  Antigua and Barbuda              23.60\n",
       "2            Argentina            1294.98\n",
       "3              Armenia             378.16\n",
       "4                Aruba             327.93"
      ]
     },
     "execution_count": 18,
     "metadata": {},
     "output_type": "execute_result"
    }
   ],
   "source": [
    "recent = first_obs[first_obs.year ==\"2007-2016\"].groupby(\"country\").sum().reset_index()\n",
    "recent.head()"
   ]
  },
  {
   "cell_type": "code",
   "execution_count": 19,
   "metadata": {
    "_uuid": "07284d030f9e09cfee3f70730f76a34c50d8c07a"
   },
   "outputs": [
    {
     "data": {
      "text/plain": [
       "(array([0, 1, 2, 3, 4, 5, 6, 7, 8, 9]), <a list of 10 Text xticklabel objects>)"
      ]
     },
     "execution_count": 19,
     "metadata": {},
     "output_type": "execute_result"
    },
    {
     "data": {
      "image/png": "[encoded data removed]",
      "text/plain": [
       "<Figure size 720x360 with 1 Axes>"
      ]
     },
     "metadata": {},
     "output_type": "display_data"
    }
   ],
   "source": [
    "plt.figure(figsize=(10,5))\n",
    "recent_best_10 = recent.sort_values(by = \"suicides/100k pop\")[:10]\n",
    "sns.barplot(x = \"country\", y = \"suicides/100k pop\", data = recent_best_10).set_title(\"Countries with less suicides in 2007-2016\")\n",
    "plt.xticks(rotation = 90)"
   ]
  },
  {
   "cell_type": "markdown",
   "metadata": {
    "_uuid": "46de57ef2546ae7f7dd3eafffb48bd4dcb7dd402"
   },
   "source": [
    "**Countries with most suicides recently**"
   ]
  },
  {
   "cell_type": "code",
   "execution_count": 20,
   "metadata": {
    "_uuid": "e4fddbc5b0e5860c3f3966c23bb2f9f91104f303"
   },
   "outputs": [
    {
     "data": {
      "text/plain": [
       "(array([0, 1, 2, 3, 4, 5, 6, 7, 8, 9]), <a list of 10 Text xticklabel objects>)"
      ]
     },
     "execution_count": 20,
     "metadata": {},
     "output_type": "execute_result"
    },
    {
     "data": {
      "image/png": "[encoded data removed]",
      "text/plain": [
       "<Figure size 720x360 with 1 Axes>"
      ]
     },
     "metadata": {},
     "output_type": "display_data"
    }
   ],
   "source": [
    "plt.figure(figsize=(10,5))\n",
    "recent_bad_10 = recent.sort_values(by = \"suicides/100k pop\",ascending=False)[:10]\n",
    "sns.barplot(x = \"country\", y = \"suicides/100k pop\", data = recent_bad_10).set_title(\"Countries with most suicides in 2007-2016\")\n",
    "plt.xticks(rotation = 90)"
   ]
  },
  {
   "cell_type": "markdown",
   "metadata": {
    "_uuid": "ff4616cc171365b03b79aa25e1b404fc90f39264"
   },
   "source": [
    "**DANGER ZONE Nations vs Safe Zone Nations**"
   ]
  },
  {
   "cell_type": "markdown",
   "metadata": {
    "_uuid": "faee38c42ca47b74f70e057b96edcde67b7d49ab"
   },
   "source": [
    "Danger Zone Nations are those nations,\n",
    "* where  **suicides** are at **increasing** rate for 3 successive decades, then they are classified to **DANGER ZONE NATIONS**\n",
    "\n",
    "Safe Zone Nations are those nations,\n",
    "* where **suicides** are at **decreasing** rate for 3 successive decades, then they are classified to **Safe ZONE NATIONS**\n",
    "\n",
    "With this analysis,\n",
    "* we can understand whether GOVT taking any initiatives for decreasing suicide rate.\n",
    "* Why these specfic Nations have increasing Suicide rate?\n"
   ]
  },
  {
   "cell_type": "code",
   "execution_count": 21,
   "metadata": {
    "_uuid": "46af33821542fde468e0b3b222efd61c66711a16"
   },
   "outputs": [
    {
     "data": {
      "text/html": [
       "<div>\n",
       "<style scoped>\n",
       "    .dataframe tbody tr th:only-of-type {\n",
       "        vertical-align: middle;\n",
       "    }\n",
       "\n",
       "    .dataframe tbody tr th {\n",
       "        vertical-align: top;\n",
       "    }\n",
       "\n",
       "    .dataframe thead th {\n",
       "        text-align: right;\n",
       "    }\n",
       "</style>\n",
       "<table border=\"1\" class=\"dataframe\">\n",
       "  <thead>\n",
       "    <tr style=\"text-align: right;\">\n",
       "      <th></th>\n",
       "      <th>country</th>\n",
       "      <th>year</th>\n",
       "      <th>suicides/100k pop</th>\n",
       "    </tr>\n",
       "  </thead>\n",
       "  <tbody>\n",
       "    <tr>\n",
       "      <th>0</th>\n",
       "      <td>Albania</td>\n",
       "      <td>1987-1996</td>\n",
       "      <td>264.62</td>\n",
       "    </tr>\n",
       "    <tr>\n",
       "      <th>1</th>\n",
       "      <td>Albania</td>\n",
       "      <td>1997-2006</td>\n",
       "      <td>481.58</td>\n",
       "    </tr>\n",
       "    <tr>\n",
       "      <th>2</th>\n",
       "      <td>Albania</td>\n",
       "      <td>2007-2016</td>\n",
       "      <td>178.56</td>\n",
       "    </tr>\n",
       "    <tr>\n",
       "      <th>3</th>\n",
       "      <td>Antigua and Barbuda</td>\n",
       "      <td>1987-1996</td>\n",
       "      <td>32.24</td>\n",
       "    </tr>\n",
       "    <tr>\n",
       "      <th>4</th>\n",
       "      <td>Antigua and Barbuda</td>\n",
       "      <td>1997-2006</td>\n",
       "      <td>123.30</td>\n",
       "    </tr>\n",
       "  </tbody>\n",
       "</table>\n",
       "</div>"
      ],
      "text/plain": [
       "               country       year  suicides/100k pop\n",
       "0              Albania  1987-1996             264.62\n",
       "1              Albania  1997-2006             481.58\n",
       "2              Albania  2007-2016             178.56\n",
       "3  Antigua and Barbuda  1987-1996              32.24\n",
       "4  Antigua and Barbuda  1997-2006             123.30"
      ]
     },
     "execution_count": 21,
     "metadata": {},
     "output_type": "execute_result"
    }
   ],
   "source": [
    "zone_assess = first_obs.groupby([\"country\",\"year\"]).sum().reset_index()\n",
    "zone_assess.head()"
   ]
  },
  {
   "cell_type": "code",
   "execution_count": 22,
   "metadata": {
    "_uuid": "d38f40ae5d3e2cddb8956e2669c0f22c557478f7"
   },
   "outputs": [],
   "source": [
    "#countries having data of three decades\n",
    "three_gen = zone_assess.country.value_counts().reset_index(name = \"count\")\n",
    "three_gen.columns = [\"country\", \"counts\"]\n",
    "three_gen_countries = three_gen[three_gen.counts == 3].country.tolist()"
   ]
  },
  {
   "cell_type": "code",
   "execution_count": 23,
   "metadata": {
    "_uuid": "f7a5475439e8fadec54e1f0d816e50266bb4d222"
   },
   "outputs": [],
   "source": [
    "nations = three_gen_countries\n",
    "years = zone_assess.year.unique()\n",
    "green_zones = []\n",
    "danger_zones = []\n",
    "for country in nations:\n",
    "    s_year1 = float(zone_assess[(zone_assess.country == country) & (zone_assess.year == \"1987-1996\")][\"suicides/100k pop\"])\n",
    "    s_year2 = float(zone_assess[(zone_assess.country == country) & (zone_assess.year == \"1997-2006\")][\"suicides/100k pop\"])\n",
    "    s_year3 = float(zone_assess[(zone_assess.country == country) & (zone_assess.year == \"2007-2016\")][\"suicides/100k pop\"])\n",
    "    if s_year1 <= s_year2 <= s_year3:\n",
    "        danger_zones.append(country)\n",
    "    if s_year1 >= s_year2 >= s_year3:\n",
    "        green_zones.append(country)\n",
    "        "
   ]
  },
  {
   "cell_type": "code",
   "execution_count": 24,
   "metadata": {
    "_uuid": "704d574c02f26057e648a8155cf9132f469296a2"
   },
   "outputs": [
    {
     "data": {
      "text/plain": [
       "(array([ 0,  1,  2,  3,  4,  5,  6,  7,  8,  9, 10, 11, 12, 13]),\n",
       " <a list of 14 Text xticklabel objects>)"
      ]
     },
     "execution_count": 24,
     "metadata": {},
     "output_type": "execute_result"
    },
    {
     "data": {
      "image/png": "[encoded data removed]",
      "text/plain": [
       "<Figure size 1296x576 with 1 Axes>"
      ]
     },
     "metadata": {},
     "output_type": "display_data"
    }
   ],
   "source": [
    "plt.figure(figsize=(18,8))\n",
    "sns.barplot(x = \"country\", y = \"suicides/100k pop\", hue = \"year\",data = zone_assess[zone_assess.country.isin(green_zones)]).set_title(\"Decreasing Suicide Rate\")\n",
    "plt.xticks(rotation = 90)"
   ]
  },
  {
   "cell_type": "code",
   "execution_count": 25,
   "metadata": {
    "_uuid": "69598309374c27334518f6fc71af2cd88164ea90"
   },
   "outputs": [
    {
     "data": {
      "text/plain": [
       "(array([ 0,  1,  2,  3,  4,  5,  6,  7,  8,  9, 10, 11, 12, 13, 14, 15]),\n",
       " <a list of 16 Text xticklabel objects>)"
      ]
     },
     "execution_count": 25,
     "metadata": {},
     "output_type": "execute_result"
    },
    {
     "data": {
      "image/png": "[encoded data removed]",
      "text/plain": [
       "<Figure size 1296x576 with 1 Axes>"
      ]
     },
     "metadata": {},
     "output_type": "display_data"
    }
   ],
   "source": [
    "plt.figure(figsize=(18,8))\n",
    "sns.barplot(x = \"country\", y = \"suicides/100k pop\", hue = \"year\",data = zone_assess[zone_assess.country.isin(danger_zones)]).set_title(\"Increasing Suicide Rate\")\n",
    "plt.xticks(rotation = 90)"
   ]
  },
  {
   "cell_type": "markdown",
   "metadata": {
    "_uuid": "e9a995a472ddbf95e8f4bd3e66b1679a728b3848"
   },
   "source": [
    "Suicides are increasing in above nations.Especially, Republic of Korea and Suriname countries have a greater suicide increasing rate."
   ]
  },
  {
   "cell_type": "markdown",
   "metadata": {
    "_uuid": "ea06e418f596a34f9f2d031555f878ac3d3206bf"
   },
   "source": [
    "I'm a beginner. Give suggesstions for any improvements in kernel."
   ]
  }
 ],
 "metadata": {
  "kernelspec": {
   "display_name": "Python 3",
   "language": "python",
   "name": "python3"
  },
  "language_info": {
   "codemirror_mode": {
    "name": "ipython",
    "version": 3
   },
   "file_extension": ".py",
   "mimetype": "text/x-python",
   "name": "python",
   "nbconvert_exporter": "python",
   "pygments_lexer": "ipython3",
   "version": "3.6.6"
  }
 },
 "nbformat": 4,
 "nbformat_minor": 1
}
