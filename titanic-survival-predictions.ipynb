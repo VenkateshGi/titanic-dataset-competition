{
 "cells": [
  {
   "cell_type": "code",
   "execution_count": 1,
   "metadata": {
    "_cell_guid": "b1076dfc-b9ad-4769-8c92-a6c4dae69d19",
    "_uuid": "8f2839f25d086af736a60e9eeb907d3b93b6e0e5"
   },
   "outputs": [
    {
     "name": "stdout",
     "output_type": "stream",
     "text": [
      "['gender_submission.csv', 'test.csv', 'train.csv']\n"
     ]
    }
   ],
   "source": [
    "# This Python 3 environment comes with many helpful analytics libraries installed\n",
    "# It is defined by the kaggle/python docker image: https://github.com/kaggle/docker-python\n",
    "# For example, here's several helpful packages to load in \n",
    "\n",
    "import numpy as np # linear algebra\n",
    "import pandas as pd # data processing, CSV file I/O (e.g. pd.read_csv)\n",
    "import matplotlib.pyplot as plt\n",
    "import seaborn as sns\n",
    "# Input data files are available in the \"../input/\" directory.\n",
    "# For example, running this (by clicking run or pressing Shift+Enter) will list the files in the input directory\n",
    "\n",
    "import os\n",
    "print(os.listdir(\"../input\"))\n",
    "\n",
    "# Any results you write to the current directory are saved as output."
   ]
  },
  {
   "cell_type": "code",
   "execution_count": 2,
   "metadata": {
    "_cell_guid": "79c7e3d0-c299-4dcb-8224-4455121ee9b0",
    "_uuid": "d629ff2d2480ee46fbb7e2d37f6b5fab8052498a"
   },
   "outputs": [],
   "source": [
    "titanic_train = pd.read_csv(\"../input/train.csv\")\n",
    "titanic_test = pd.read_csv(\"../input/test.csv\")"
   ]
  },
  {
   "cell_type": "markdown",
   "metadata": {
    "_uuid": "a176d74b37be537b10844f6b8f5d1418eeb3168a"
   },
   "source": [
    "let's check some details"
   ]
  },
  {
   "cell_type": "code",
   "execution_count": 3,
   "metadata": {
    "_uuid": "6798c6fb1eaf922209e4b7a37b5419896d7854ba"
   },
   "outputs": [
    {
     "name": "stdout",
     "output_type": "stream",
     "text": [
      "<class 'pandas.core.frame.DataFrame'>\n",
      "RangeIndex: 891 entries, 0 to 890\n",
      "Data columns (total 12 columns):\n",
      "PassengerId    891 non-null int64\n",
      "Survived       891 non-null int64\n",
      "Pclass         891 non-null int64\n",
      "Name           891 non-null object\n",
      "Sex            891 non-null object\n",
      "Age            714 non-null float64\n",
      "SibSp          891 non-null int64\n",
      "Parch          891 non-null int64\n",
      "Ticket         891 non-null object\n",
      "Fare           891 non-null float64\n",
      "Cabin          204 non-null object\n",
      "Embarked       889 non-null object\n",
      "dtypes: float64(2), int64(5), object(5)\n",
      "memory usage: 83.6+ KB\n"
     ]
    }
   ],
   "source": [
    "titanic_train.info()"
   ]
  },
  {
   "cell_type": "code",
   "execution_count": 4,
   "metadata": {
    "_uuid": "6471acb29718d5313642839e6e949ef6e229e741"
   },
   "outputs": [
    {
     "name": "stdout",
     "output_type": "stream",
     "text": [
      "<class 'pandas.core.frame.DataFrame'>\n",
      "RangeIndex: 418 entries, 0 to 417\n",
      "Data columns (total 11 columns):\n",
      "PassengerId    418 non-null int64\n",
      "Pclass         418 non-null int64\n",
      "Name           418 non-null object\n",
      "Sex            418 non-null object\n",
      "Age            332 non-null float64\n",
      "SibSp          418 non-null int64\n",
      "Parch          418 non-null int64\n",
      "Ticket         418 non-null object\n",
      "Fare           417 non-null float64\n",
      "Cabin          91 non-null object\n",
      "Embarked       418 non-null object\n",
      "dtypes: float64(2), int64(4), object(5)\n",
      "memory usage: 36.0+ KB\n"
     ]
    }
   ],
   "source": [
    "titanic_test.info()"
   ]
  },
  {
   "cell_type": "markdown",
   "metadata": {
    "_uuid": "114c09c16165ae4cb5d38bd6431baab09d1ed052"
   },
   "source": [
    "As we can see, there are null values in both train adn test datasets"
   ]
  },
  {
   "cell_type": "code",
   "execution_count": 5,
   "metadata": {
    "_uuid": "fa1bc4c373e78fa62aff51c2b64213835fe19ca3"
   },
   "outputs": [
    {
     "name": "stderr",
     "output_type": "stream",
     "text": [
      "/opt/conda/lib/python3.6/site-packages/pandas/core/frame.py:6211: FutureWarning: Sorting because non-concatenation axis is not aligned. A future version\n",
      "of pandas will change to not sort by default.\n",
      "\n",
      "To accept the future behavior, pass 'sort=False'.\n",
      "\n",
      "To retain the current behavior and silence the warning, pass 'sort=True'.\n",
      "\n",
      "  sort=sort)\n"
     ]
    }
   ],
   "source": [
    "#Let's set the survived to -1 and then we combine both datasets\n",
    "titanic_test[\"Survived\"] = -1\n",
    "titanic = titanic_train.append(titanic_test)"
   ]
  },
  {
   "cell_type": "code",
   "execution_count": 6,
   "metadata": {
    "_uuid": "2156b593a0b9133d0be0777d48a4128828ddcb67"
   },
   "outputs": [
    {
     "data": {
      "text/plain": [
       " 0    549\n",
       "-1    418\n",
       " 1    342\n",
       "Name: Survived, dtype: int64"
      ]
     },
     "execution_count": 6,
     "metadata": {},
     "output_type": "execute_result"
    }
   ],
   "source": [
    "#let's check it now\n",
    "titanic.Survived.value_counts()"
   ]
  },
  {
   "cell_type": "code",
   "execution_count": 7,
   "metadata": {
    "_uuid": "ccec3b6c80207f599c2b4b80e655d1462408091c"
   },
   "outputs": [
    {
     "data": {
      "text/html": [
       "<div>\n",
       "<style scoped>\n",
       "    .dataframe tbody tr th:only-of-type {\n",
       "        vertical-align: middle;\n",
       "    }\n",
       "\n",
       "    .dataframe tbody tr th {\n",
       "        vertical-align: top;\n",
       "    }\n",
       "\n",
       "    .dataframe thead th {\n",
       "        text-align: right;\n",
       "    }\n",
       "</style>\n",
       "<table border=\"1\" class=\"dataframe\">\n",
       "  <thead>\n",
       "    <tr style=\"text-align: right;\">\n",
       "      <th></th>\n",
       "      <th>Age</th>\n",
       "      <th>Cabin</th>\n",
       "      <th>Embarked</th>\n",
       "      <th>Fare</th>\n",
       "      <th>Name</th>\n",
       "      <th>Parch</th>\n",
       "      <th>PassengerId</th>\n",
       "      <th>Pclass</th>\n",
       "      <th>Sex</th>\n",
       "      <th>SibSp</th>\n",
       "      <th>Survived</th>\n",
       "      <th>Ticket</th>\n",
       "    </tr>\n",
       "  </thead>\n",
       "  <tbody>\n",
       "    <tr>\n",
       "      <th>183</th>\n",
       "      <td>NaN</td>\n",
       "      <td>NaN</td>\n",
       "      <td>Q</td>\n",
       "      <td>7.7500</td>\n",
       "      <td>Lane, Mr. Patrick</td>\n",
       "      <td>0</td>\n",
       "      <td>1075</td>\n",
       "      <td>3</td>\n",
       "      <td>male</td>\n",
       "      <td>0</td>\n",
       "      <td>-1</td>\n",
       "      <td>7935</td>\n",
       "    </tr>\n",
       "    <tr>\n",
       "      <th>663</th>\n",
       "      <td>36.0</td>\n",
       "      <td>NaN</td>\n",
       "      <td>S</td>\n",
       "      <td>7.4958</td>\n",
       "      <td>Coleff, Mr. Peju</td>\n",
       "      <td>0</td>\n",
       "      <td>664</td>\n",
       "      <td>3</td>\n",
       "      <td>male</td>\n",
       "      <td>0</td>\n",
       "      <td>0</td>\n",
       "      <td>349210</td>\n",
       "    </tr>\n",
       "    <tr>\n",
       "      <th>499</th>\n",
       "      <td>24.0</td>\n",
       "      <td>NaN</td>\n",
       "      <td>S</td>\n",
       "      <td>7.7958</td>\n",
       "      <td>Svensson, Mr. Olof</td>\n",
       "      <td>0</td>\n",
       "      <td>500</td>\n",
       "      <td>3</td>\n",
       "      <td>male</td>\n",
       "      <td>0</td>\n",
       "      <td>0</td>\n",
       "      <td>350035</td>\n",
       "    </tr>\n",
       "  </tbody>\n",
       "</table>\n",
       "</div>"
      ],
      "text/plain": [
       "      Age Cabin Embarked    Fare   ...     Sex  SibSp  Survived  Ticket\n",
       "183   NaN   NaN        Q  7.7500   ...    male      0        -1    7935\n",
       "663  36.0   NaN        S  7.4958   ...    male      0         0  349210\n",
       "499  24.0   NaN        S  7.7958   ...    male      0         0  350035\n",
       "\n",
       "[3 rows x 12 columns]"
      ]
     },
     "execution_count": 7,
     "metadata": {},
     "output_type": "execute_result"
    }
   ],
   "source": [
    "titanic.sample(3)"
   ]
  },
  {
   "cell_type": "markdown",
   "metadata": {
    "_uuid": "0679cde0494d201f8b6f566cc7a976107ad59f4c"
   },
   "source": [
    "So now, \n",
    "Age,Fare are continuous variables and remaining are categorical. So let's plot boxplot for continuos variables and see whether there are any outliers"
   ]
  },
  {
   "cell_type": "markdown",
   "metadata": {
    "_uuid": "6a3ca167f53c6971aa93e578b33efd83d1be2926"
   },
   "source": [
    "**ANALYSIS FOR CONTINUOUS VARIABLES**"
   ]
  },
  {
   "cell_type": "code",
   "execution_count": 8,
   "metadata": {
    "_uuid": "efc371f50e2acee1f53c32fd1749fa8721f7fcb1"
   },
   "outputs": [
    {
     "data": {
      "text/plain": [
       "<matplotlib.axes._subplots.AxesSubplot at 0x7f6c7af70240>"
      ]
     },
     "execution_count": 8,
     "metadata": {},
     "output_type": "execute_result"
    },
    {
     "data": {
      "image/png": "[encoded data removed]",
      "text/plain": [
       "<Figure size 432x288 with 1 Axes>"
      ]
     },
     "metadata": {},
     "output_type": "display_data"
    }
   ],
   "source": [
    "titanic[[\"Age\",\"Fare\"]].boxplot()"
   ]
  },
  {
   "cell_type": "markdown",
   "metadata": {
    "_uuid": "b44e489d32fe8f970497d00acc3cd1b2f3a1db4d"
   },
   "source": [
    "Everything is fine. These outliers can be understood. The Fare > 500 is outlier. They might bought the ticket lately.\n",
    "\n",
    "**NOTE **: np.nan values are removed by defalut when we plot boxplot. I will fill those nan values in coming lines"
   ]
  },
  {
   "cell_type": "code",
   "execution_count": 9,
   "metadata": {
    "_uuid": "fc67e551fcaaaf1ffaad7f7f71ea885a2d1042e8"
   },
   "outputs": [
    {
     "data": {
      "text/html": [
       "<div>\n",
       "<style scoped>\n",
       "    .dataframe tbody tr th:only-of-type {\n",
       "        vertical-align: middle;\n",
       "    }\n",
       "\n",
       "    .dataframe tbody tr th {\n",
       "        vertical-align: top;\n",
       "    }\n",
       "\n",
       "    .dataframe thead th {\n",
       "        text-align: right;\n",
       "    }\n",
       "</style>\n",
       "<table border=\"1\" class=\"dataframe\">\n",
       "  <thead>\n",
       "    <tr style=\"text-align: right;\">\n",
       "      <th></th>\n",
       "      <th>Age</th>\n",
       "      <th>Cabin</th>\n",
       "      <th>Embarked</th>\n",
       "      <th>Fare</th>\n",
       "      <th>Name</th>\n",
       "      <th>Parch</th>\n",
       "      <th>PassengerId</th>\n",
       "      <th>Pclass</th>\n",
       "      <th>Sex</th>\n",
       "      <th>SibSp</th>\n",
       "      <th>Survived</th>\n",
       "      <th>Ticket</th>\n",
       "    </tr>\n",
       "  </thead>\n",
       "  <tbody>\n",
       "    <tr>\n",
       "      <th>258</th>\n",
       "      <td>35.0</td>\n",
       "      <td>NaN</td>\n",
       "      <td>C</td>\n",
       "      <td>512.3292</td>\n",
       "      <td>Ward, Miss. Anna</td>\n",
       "      <td>0</td>\n",
       "      <td>259</td>\n",
       "      <td>1</td>\n",
       "      <td>female</td>\n",
       "      <td>0</td>\n",
       "      <td>1</td>\n",
       "      <td>PC 17755</td>\n",
       "    </tr>\n",
       "    <tr>\n",
       "      <th>679</th>\n",
       "      <td>36.0</td>\n",
       "      <td>B51 B53 B55</td>\n",
       "      <td>C</td>\n",
       "      <td>512.3292</td>\n",
       "      <td>Cardeza, Mr. Thomas Drake Martinez</td>\n",
       "      <td>1</td>\n",
       "      <td>680</td>\n",
       "      <td>1</td>\n",
       "      <td>male</td>\n",
       "      <td>0</td>\n",
       "      <td>1</td>\n",
       "      <td>PC 17755</td>\n",
       "    </tr>\n",
       "    <tr>\n",
       "      <th>737</th>\n",
       "      <td>35.0</td>\n",
       "      <td>B101</td>\n",
       "      <td>C</td>\n",
       "      <td>512.3292</td>\n",
       "      <td>Lesurer, Mr. Gustave J</td>\n",
       "      <td>0</td>\n",
       "      <td>738</td>\n",
       "      <td>1</td>\n",
       "      <td>male</td>\n",
       "      <td>0</td>\n",
       "      <td>1</td>\n",
       "      <td>PC 17755</td>\n",
       "    </tr>\n",
       "    <tr>\n",
       "      <th>343</th>\n",
       "      <td>58.0</td>\n",
       "      <td>B51 B53 B55</td>\n",
       "      <td>C</td>\n",
       "      <td>512.3292</td>\n",
       "      <td>Cardeza, Mrs. James Warburton Martinez (Charlo...</td>\n",
       "      <td>1</td>\n",
       "      <td>1235</td>\n",
       "      <td>1</td>\n",
       "      <td>female</td>\n",
       "      <td>0</td>\n",
       "      <td>-1</td>\n",
       "      <td>PC 17755</td>\n",
       "    </tr>\n",
       "  </tbody>\n",
       "</table>\n",
       "</div>"
      ],
      "text/plain": [
       "      Age        Cabin Embarked    ...     SibSp Survived    Ticket\n",
       "258  35.0          NaN        C    ...         0        1  PC 17755\n",
       "679  36.0  B51 B53 B55        C    ...         0        1  PC 17755\n",
       "737  35.0         B101        C    ...         0        1  PC 17755\n",
       "343  58.0  B51 B53 B55        C    ...         0       -1  PC 17755\n",
       "\n",
       "[4 rows x 12 columns]"
      ]
     },
     "execution_count": 9,
     "metadata": {},
     "output_type": "execute_result"
    }
   ],
   "source": [
    "titanic[titanic.Fare > 500]"
   ]
  },
  {
   "cell_type": "markdown",
   "metadata": {
    "_uuid": "ff945898f0da4677dbbcf9c0773a560b7c131340"
   },
   "source": [
    "Passengers whose fare is above 500, have survived the Titanic Disaster."
   ]
  },
  {
   "cell_type": "markdown",
   "metadata": {
    "_uuid": "49358b1f32d93bdd9f753d34bb4b5ab3c51305d2"
   },
   "source": [
    "**CATEGORICAL DATA ANALYSIS**"
   ]
  },
  {
   "cell_type": "code",
   "execution_count": 10,
   "metadata": {
    "_uuid": "b336f2ad80cb450340f7f9022202fb0099126248",
    "scrolled": true
   },
   "outputs": [
    {
     "data": {
      "text/plain": [
       "Text(0.5,1,'GENDER _ SURVIVAL')"
      ]
     },
     "execution_count": 10,
     "metadata": {},
     "output_type": "execute_result"
    },
    {
     "data": {
      "image/png": "[encoded data removed]",
      "text/plain": [
       "<Figure size 432x288 with 1 Axes>"
      ]
     },
     "metadata": {},
     "output_type": "display_data"
    }
   ],
   "source": [
    "temp = titanic_train.groupby(\"Sex\")[\"Survived\"].value_counts(normalize = True).mul(100).reset_index(name = \"percentage\")\n",
    "sns.barplot(x=\"Sex\",y = \"percentage\",hue = \"Survived\",data = temp).set_title(\"GENDER _ SURVIVAL\")"
   ]
  },
  {
   "cell_type": "markdown",
   "metadata": {
    "_uuid": "4e081a3534035d858a2ade2a9dd8b38ecded2850"
   },
   "source": [
    "As we see, **80%** of **dead** passengers are **male** and around **75%** of **alive** passengers are **female**"
   ]
  },
  {
   "cell_type": "markdown",
   "metadata": {
    "_uuid": "4c01bea2973e2f4979948adcaca4dd285eb36894"
   },
   "source": [
    "Let's understand Parch,SibsP more clearly"
   ]
  },
  {
   "cell_type": "code",
   "execution_count": 11,
   "metadata": {
    "_uuid": "d3f510e4a058f9f61dda16991d6cf95d8e28b521"
   },
   "outputs": [
    {
     "data": {
      "text/plain": [
       "Text(0.5,1,'SibSp - Survival rate')"
      ]
     },
     "execution_count": 11,
     "metadata": {},
     "output_type": "execute_result"
    },
    {
     "data": {
      "image/png": "[encoded data removed]",
      "text/plain": [
       "<Figure size 432x288 with 1 Axes>"
      ]
     },
     "metadata": {},
     "output_type": "display_data"
    }
   ],
   "source": [
    "temp = titanic[(titanic.Survived!=-1)].groupby(\"SibSp\")[\"Survived\"].value_counts(normalize = True).mul(100).reset_index(name = \"percentage\")\n",
    "sns.barplot(x=\"SibSp\",y = \"percentage\",hue = \"Survived\",data = temp).set_title(\"SibSp - Survival rate\")\n"
   ]
  },
  {
   "cell_type": "code",
   "execution_count": 12,
   "metadata": {
    "_uuid": "ea19a1f83ba48538d51ead6e1f14dfe05972de10"
   },
   "outputs": [
    {
     "data": {
      "text/plain": [
       "Text(0.5,1,'Parch vs Survival Rate')"
      ]
     },
     "execution_count": 12,
     "metadata": {},
     "output_type": "execute_result"
    },
    {
     "data": {
      "image/png": "[encoded data removed]",
      "text/plain": [
       "<Figure size 432x288 with 1 Axes>"
      ]
     },
     "metadata": {},
     "output_type": "display_data"
    }
   ],
   "source": [
    "temp = titanic[(titanic.Survived!=-1)].groupby(\"Parch\")[\"Survived\"].value_counts(normalize = True).mul(100).reset_index(name = \"percentage\")\n",
    "sns.barplot(x=\"Parch\",y = \"percentage\",hue = \"Survived\",data = temp).set_title(\"Parch vs Survival Rate\")"
   ]
  },
  {
   "cell_type": "markdown",
   "metadata": {
    "_uuid": "b0c52f22bda7184577cc36f5cdef6b266cb1ce99"
   },
   "source": [
    "From above plots we can understand that,\n",
    "1. SibSp - (1,2) have good chances of survival\n",
    "2. Parch - (1,2,3) have better chances of survival"
   ]
  },
  {
   "cell_type": "code",
   "execution_count": 13,
   "metadata": {
    "_uuid": "4e43e3afbadc50179342ded6e428ba005b75be1b"
   },
   "outputs": [
    {
     "data": {
      "text/html": [
       "<div>\n",
       "<style scoped>\n",
       "    .dataframe tbody tr th:only-of-type {\n",
       "        vertical-align: middle;\n",
       "    }\n",
       "\n",
       "    .dataframe tbody tr th {\n",
       "        vertical-align: top;\n",
       "    }\n",
       "\n",
       "    .dataframe thead th {\n",
       "        text-align: right;\n",
       "    }\n",
       "</style>\n",
       "<table border=\"1\" class=\"dataframe\">\n",
       "  <thead>\n",
       "    <tr style=\"text-align: right;\">\n",
       "      <th></th>\n",
       "      <th>Age</th>\n",
       "      <th>Cabin</th>\n",
       "      <th>Embarked</th>\n",
       "      <th>Fare</th>\n",
       "      <th>Name</th>\n",
       "      <th>Parch</th>\n",
       "      <th>PassengerId</th>\n",
       "      <th>Pclass</th>\n",
       "      <th>Sex</th>\n",
       "      <th>SibSp</th>\n",
       "      <th>Survived</th>\n",
       "      <th>Ticket</th>\n",
       "    </tr>\n",
       "  </thead>\n",
       "  <tbody>\n",
       "    <tr>\n",
       "      <th>217</th>\n",
       "      <td>42.0</td>\n",
       "      <td>NaN</td>\n",
       "      <td>S</td>\n",
       "      <td>27.0</td>\n",
       "      <td>Jacobsohn, Mr. Sidney Samuel</td>\n",
       "      <td>0</td>\n",
       "      <td>218</td>\n",
       "      <td>2</td>\n",
       "      <td>male</td>\n",
       "      <td>1</td>\n",
       "      <td>0</td>\n",
       "      <td>243847</td>\n",
       "    </tr>\n",
       "  </tbody>\n",
       "</table>\n",
       "</div>"
      ],
      "text/plain": [
       "      Age Cabin Embarked  Fare   ...     Sex  SibSp  Survived  Ticket\n",
       "217  42.0   NaN        S  27.0   ...    male      1         0  243847\n",
       "\n",
       "[1 rows x 12 columns]"
      ]
     },
     "execution_count": 13,
     "metadata": {},
     "output_type": "execute_result"
    }
   ],
   "source": [
    "titanic.sample()"
   ]
  },
  {
   "cell_type": "markdown",
   "metadata": {
    "_uuid": "8fd5f66c139854bd487037cb2b377acd9f46d566"
   },
   "source": [
    "Let's drop the columns that are not necessary "
   ]
  },
  {
   "cell_type": "code",
   "execution_count": 14,
   "metadata": {
    "_uuid": "3dea8adc6074eb204d2e710d085113af166d6e82"
   },
   "outputs": [],
   "source": [
    "titanic.drop(columns=[\"Ticket\",\"PassengerId\",\"Cabin\"], inplace = True)"
   ]
  },
  {
   "cell_type": "markdown",
   "metadata": {
    "_uuid": "ec1a7e0b98b88db021fe15477b6fe9015a0713f8"
   },
   "source": [
    "Let's fill null values and refine our data"
   ]
  },
  {
   "cell_type": "code",
   "execution_count": 15,
   "metadata": {
    "_uuid": "b97d3a306c229e44c65a9a816580e0ab9c0414e2"
   },
   "outputs": [
    {
     "data": {
      "text/plain": [
       "Age         263\n",
       "Embarked      2\n",
       "Fare          1\n",
       "Name          0\n",
       "Parch         0\n",
       "Pclass        0\n",
       "Sex           0\n",
       "SibSp         0\n",
       "Survived      0\n",
       "dtype: int64"
      ]
     },
     "execution_count": 15,
     "metadata": {},
     "output_type": "execute_result"
    }
   ],
   "source": [
    "titanic.isna().sum()"
   ]
  },
  {
   "cell_type": "markdown",
   "metadata": {
    "_uuid": "56686777f6dac426db4a1dc7d5809bec2008932b"
   },
   "source": [
    "***AGE***\n",
    "* So, we have to fill the Nan values of Age column. We can do this by \n",
    "1. mean/median/mode imputing where we can generalize the values and just fill them.\n",
    "2. Either by using Interpolation. Here we can't interpolate data since there's no order to follow.\n",
    "3. There may be some other methods to fill AGE attribute, like, Averaging the age based on Embark and Fare and Gender.\n",
    "4. Here, I'm considering to fill the Nan Values of AGE using the **Title** of Name. For Example, Moran, **Mr**. James, here \"Mr\" is the title name and we can allocate him the Average of all passengers bearing this Title. "
   ]
  },
  {
   "cell_type": "code",
   "execution_count": 16,
   "metadata": {
    "_uuid": "05be05d45f5bc98af88825be2aaa609131b7b4f2"
   },
   "outputs": [
    {
     "data": {
      "text/html": [
       "<div>\n",
       "<style scoped>\n",
       "    .dataframe tbody tr th:only-of-type {\n",
       "        vertical-align: middle;\n",
       "    }\n",
       "\n",
       "    .dataframe tbody tr th {\n",
       "        vertical-align: top;\n",
       "    }\n",
       "\n",
       "    .dataframe thead th {\n",
       "        text-align: right;\n",
       "    }\n",
       "</style>\n",
       "<table border=\"1\" class=\"dataframe\">\n",
       "  <thead>\n",
       "    <tr style=\"text-align: right;\">\n",
       "      <th></th>\n",
       "      <th>Age</th>\n",
       "      <th>Embarked</th>\n",
       "      <th>Fare</th>\n",
       "      <th>Name</th>\n",
       "      <th>Parch</th>\n",
       "      <th>Pclass</th>\n",
       "      <th>Sex</th>\n",
       "      <th>SibSp</th>\n",
       "      <th>Survived</th>\n",
       "    </tr>\n",
       "  </thead>\n",
       "  <tbody>\n",
       "    <tr>\n",
       "      <th>5</th>\n",
       "      <td>NaN</td>\n",
       "      <td>Q</td>\n",
       "      <td>8.4583</td>\n",
       "      <td>Moran, Mr. James</td>\n",
       "      <td>0</td>\n",
       "      <td>3</td>\n",
       "      <td>male</td>\n",
       "      <td>0</td>\n",
       "      <td>0</td>\n",
       "    </tr>\n",
       "    <tr>\n",
       "      <th>17</th>\n",
       "      <td>NaN</td>\n",
       "      <td>S</td>\n",
       "      <td>13.0000</td>\n",
       "      <td>Williams, Mr. Charles Eugene</td>\n",
       "      <td>0</td>\n",
       "      <td>2</td>\n",
       "      <td>male</td>\n",
       "      <td>0</td>\n",
       "      <td>1</td>\n",
       "    </tr>\n",
       "    <tr>\n",
       "      <th>19</th>\n",
       "      <td>NaN</td>\n",
       "      <td>C</td>\n",
       "      <td>7.2250</td>\n",
       "      <td>Masselmani, Mrs. Fatima</td>\n",
       "      <td>0</td>\n",
       "      <td>3</td>\n",
       "      <td>female</td>\n",
       "      <td>0</td>\n",
       "      <td>1</td>\n",
       "    </tr>\n",
       "  </tbody>\n",
       "</table>\n",
       "</div>"
      ],
      "text/plain": [
       "    Age Embarked     Fare    ...        Sex  SibSp  Survived\n",
       "5   NaN        Q   8.4583    ...       male      0         0\n",
       "17  NaN        S  13.0000    ...       male      0         1\n",
       "19  NaN        C   7.2250    ...     female      0         1\n",
       "\n",
       "[3 rows x 9 columns]"
      ]
     },
     "execution_count": 16,
     "metadata": {},
     "output_type": "execute_result"
    }
   ],
   "source": [
    "titanic[titanic.Age.isna()].head(3)"
   ]
  },
  {
   "cell_type": "code",
   "execution_count": 17,
   "metadata": {
    "_uuid": "7078eb3118a1e52440e7475b33fea6e6885bf5a1"
   },
   "outputs": [
    {
     "name": "stdout",
     "output_type": "stream",
     "text": [
      "['Mr', 'Mrs', 'Miss']\n",
      "0                              Braund, Mr. Owen Harris\n",
      "1    Cumings, Mrs. John Bradley (Florence Briggs Th...\n",
      "2                               Heikkinen, Miss. Laina\n",
      "Name: Name, dtype: object\n"
     ]
    }
   ],
   "source": [
    "\"\"\"\n",
    "Storing the titles of passengers in title list and then adding it to titanic dataframe\n",
    "\"\"\"\n",
    "title = []\n",
    "for item in titanic.Name:\n",
    "    title.append(item.split(',')[1].split('.')[0].strip())\n",
    "print (title[:3])\n",
    "print (titanic.Name[:3])\n",
    "titanic[\"title\"] = title\n"
   ]
  },
  {
   "cell_type": "code",
   "execution_count": 18,
   "metadata": {
    "_uuid": "7f9377402a436f2836750b8985c93be02a62f572"
   },
   "outputs": [
    {
     "data": {
      "text/plain": [
       "Mr              757\n",
       "Miss            260\n",
       "Mrs             197\n",
       "Master           61\n",
       "Rev               8\n",
       "Dr                8\n",
       "Col               4\n",
       "Major             2\n",
       "Ms                2\n",
       "Mlle              2\n",
       "Dona              1\n",
       "Jonkheer          1\n",
       "Don               1\n",
       "Sir               1\n",
       "Capt              1\n",
       "Lady              1\n",
       "Mme               1\n",
       "the Countess      1\n",
       "Name: title, dtype: int64"
      ]
     },
     "execution_count": 18,
     "metadata": {},
     "output_type": "execute_result"
    }
   ],
   "source": [
    "titanic.title.value_counts()"
   ]
  },
  {
   "cell_type": "code",
   "execution_count": 19,
   "metadata": {
    "_uuid": "561805078463b2c6ddc4adc6365a518e76db99b7"
   },
   "outputs": [
    {
     "data": {
      "text/plain": [
       "(array([ 0,  1,  2,  3,  4,  5,  6,  7,  8,  9, 10, 11, 12, 13, 14, 15, 16,\n",
       "        17]), <a list of 18 Text xticklabel objects>)"
      ]
     },
     "execution_count": 19,
     "metadata": {},
     "output_type": "execute_result"
    },
    {
     "data": {
      "image/png": "[encoded data removed]",
      "text/plain": [
       "<Figure size 432x288 with 1 Axes>"
      ]
     },
     "metadata": {},
     "output_type": "display_data"
    }
   ],
   "source": [
    "using = dict(titanic.groupby(\"title\").mean()[\"Age\"])\n",
    "sns.barplot(x = list(using.keys()), y = list(using.values()))\n",
    "plt.xticks(rotation = 90)"
   ]
  },
  {
   "cell_type": "markdown",
   "metadata": {
    "_uuid": "8726260fbe0aa548f1eaf5b3c4643b9795b36a48"
   },
   "source": [
    "Different Passengers have different Age based on title. So, our assumption of filling Nan values is correct. Let's update Age accordingly"
   ]
  },
  {
   "cell_type": "code",
   "execution_count": 20,
   "metadata": {
    "_uuid": "69489c7f1484253a79be5a326d1e58a97f1f42e6"
   },
   "outputs": [],
   "source": [
    "final_age = []\n",
    "for i in range(len(titanic)):\n",
    "    age = titanic.iloc[i,0]\n",
    "    if np.isnan(age):\n",
    "        age = using[titanic.iloc[i,-1]]\n",
    "    final_age.append(age)\n",
    "titanic[\"Age\"] = final_age"
   ]
  },
  {
   "cell_type": "code",
   "execution_count": 21,
   "metadata": {
    "_uuid": "0a51f955d2bfcb4eb490e4a9829225925b946247"
   },
   "outputs": [
    {
     "data": {
      "text/plain": [
       "Age         0\n",
       "Embarked    2\n",
       "Fare        1\n",
       "Name        0\n",
       "Parch       0\n",
       "Pclass      0\n",
       "Sex         0\n",
       "SibSp       0\n",
       "Survived    0\n",
       "title       0\n",
       "dtype: int64"
      ]
     },
     "execution_count": 21,
     "metadata": {},
     "output_type": "execute_result"
    }
   ],
   "source": [
    "titanic.isna().sum()"
   ]
  },
  {
   "cell_type": "markdown",
   "metadata": {
    "_uuid": "5b13562c86643e80c716a98e8b0890b7fa93f1c1"
   },
   "source": [
    "***Embarked***"
   ]
  },
  {
   "cell_type": "code",
   "execution_count": 22,
   "metadata": {
    "_uuid": "7ee0e778412e160c9fd3a92742676794a16d1446"
   },
   "outputs": [
    {
     "data": {
      "text/plain": [
       "<matplotlib.axes._subplots.AxesSubplot at 0x7f6c6f05f978>"
      ]
     },
     "execution_count": 22,
     "metadata": {},
     "output_type": "execute_result"
    },
    {
     "data": {
      "image/png": "[encoded data removed]",
      "text/plain": [
       "<Figure size 432x288 with 1 Axes>"
      ]
     },
     "metadata": {},
     "output_type": "display_data"
    }
   ],
   "source": [
    "sns.countplot(x=\"Embarked\", data = titanic)"
   ]
  },
  {
   "cell_type": "markdown",
   "metadata": {
    "_uuid": "fd9d4e0fd2b5e4bff84180b3637ac4e589e7139b"
   },
   "source": [
    "As you expected, filling with \"S\" for nan values is correct."
   ]
  },
  {
   "cell_type": "code",
   "execution_count": 23,
   "metadata": {
    "_uuid": "2bf77c0a8105dfceaaebc7ca8560e90795d264e7"
   },
   "outputs": [],
   "source": [
    "titanic.Embarked.fillna(\"S\",inplace=True)"
   ]
  },
  {
   "cell_type": "code",
   "execution_count": 24,
   "metadata": {
    "_uuid": "9f251e3bcb3172db468116a805dc0ed2882822bf"
   },
   "outputs": [
    {
     "data": {
      "text/plain": [
       "Age         0\n",
       "Embarked    0\n",
       "Fare        1\n",
       "Name        0\n",
       "Parch       0\n",
       "Pclass      0\n",
       "Sex         0\n",
       "SibSp       0\n",
       "Survived    0\n",
       "title       0\n",
       "dtype: int64"
      ]
     },
     "execution_count": 24,
     "metadata": {},
     "output_type": "execute_result"
    }
   ],
   "source": [
    "titanic.isna().sum()"
   ]
  },
  {
   "cell_type": "markdown",
   "metadata": {
    "_uuid": "82c6e085af74397a9fe5184e8890f3e6fee1c771"
   },
   "source": [
    "***Fare***"
   ]
  },
  {
   "cell_type": "code",
   "execution_count": 25,
   "metadata": {
    "_uuid": "b0047b4ea377027f28a90c2f0c9abd2d331522a0"
   },
   "outputs": [
    {
     "name": "stderr",
     "output_type": "stream",
     "text": [
      "/opt/conda/lib/python3.6/site-packages/scipy/stats/stats.py:1713: FutureWarning: Using a non-tuple sequence for multidimensional indexing is deprecated; use `arr[tuple(seq)]` instead of `arr[seq]`. In the future this will be interpreted as an array index, `arr[np.array(seq)]`, which will result either in an error or a different result.\n",
      "  return np.add.reduce(sorted[indexer] * weights, axis=axis) / sumval\n"
     ]
    },
    {
     "data": {
      "text/plain": [
       "<matplotlib.axes._subplots.AxesSubplot at 0x7f6c6edbd2e8>"
      ]
     },
     "execution_count": 25,
     "metadata": {},
     "output_type": "execute_result"
    },
    {
     "data": {
      "image/png": "[encoded data removed]",
      "text/plain": [
       "<Figure size 432x288 with 1 Axes>"
      ]
     },
     "metadata": {},
     "output_type": "display_data"
    }
   ],
   "source": [
    "sns.barplot(x=\"Embarked\",y=\"Fare\",hue = \"Pclass\",data = titanic)"
   ]
  },
  {
   "cell_type": "code",
   "execution_count": 26,
   "metadata": {
    "_uuid": "a0695fcc69d70e3b5d546cc0adfdde4bd084eec2"
   },
   "outputs": [
    {
     "data": {
      "text/html": [
       "<div>\n",
       "<style scoped>\n",
       "    .dataframe tbody tr th:only-of-type {\n",
       "        vertical-align: middle;\n",
       "    }\n",
       "\n",
       "    .dataframe tbody tr th {\n",
       "        vertical-align: top;\n",
       "    }\n",
       "\n",
       "    .dataframe thead th {\n",
       "        text-align: right;\n",
       "    }\n",
       "</style>\n",
       "<table border=\"1\" class=\"dataframe\">\n",
       "  <thead>\n",
       "    <tr style=\"text-align: right;\">\n",
       "      <th></th>\n",
       "      <th>Age</th>\n",
       "      <th>Embarked</th>\n",
       "      <th>Fare</th>\n",
       "      <th>Name</th>\n",
       "      <th>Parch</th>\n",
       "      <th>Pclass</th>\n",
       "      <th>Sex</th>\n",
       "      <th>SibSp</th>\n",
       "      <th>Survived</th>\n",
       "      <th>title</th>\n",
       "    </tr>\n",
       "  </thead>\n",
       "  <tbody>\n",
       "    <tr>\n",
       "      <th>152</th>\n",
       "      <td>60.5</td>\n",
       "      <td>S</td>\n",
       "      <td>NaN</td>\n",
       "      <td>Storey, Mr. Thomas</td>\n",
       "      <td>0</td>\n",
       "      <td>3</td>\n",
       "      <td>male</td>\n",
       "      <td>0</td>\n",
       "      <td>-1</td>\n",
       "      <td>Mr</td>\n",
       "    </tr>\n",
       "  </tbody>\n",
       "</table>\n",
       "</div>"
      ],
      "text/plain": [
       "      Age Embarked  Fare                Name  ...     Sex  SibSp Survived  title\n",
       "152  60.5        S   NaN  Storey, Mr. Thomas  ...    male      0       -1     Mr\n",
       "\n",
       "[1 rows x 10 columns]"
      ]
     },
     "execution_count": 26,
     "metadata": {},
     "output_type": "execute_result"
    }
   ],
   "source": [
    "titanic[titanic.Fare.isna()]"
   ]
  },
  {
   "cell_type": "markdown",
   "metadata": {
    "_uuid": "2f33523b0329caa7ddbfc65c2668ba701f773b66"
   },
   "source": [
    "So based on the above plot, \n",
    "*  Thomas Embarked at S and Pclass ticket is of type 3, So let's assign Fare value as 18"
   ]
  },
  {
   "cell_type": "code",
   "execution_count": 27,
   "metadata": {
    "_uuid": "a5848c1c39e8ea5f008bf4aebd63a80ad0c70561"
   },
   "outputs": [
    {
     "data": {
      "text/plain": [
       "Age         0\n",
       "Embarked    0\n",
       "Fare        0\n",
       "Name        0\n",
       "Parch       0\n",
       "Pclass      0\n",
       "Sex         0\n",
       "SibSp       0\n",
       "Survived    0\n",
       "title       0\n",
       "dtype: int64"
      ]
     },
     "execution_count": 27,
     "metadata": {},
     "output_type": "execute_result"
    }
   ],
   "source": [
    "titanic.Fare.fillna(18,inplace=True)\n",
    "titanic.isna().sum()"
   ]
  },
  {
   "cell_type": "markdown",
   "metadata": {
    "_uuid": "b29013c3fda2ffd26ce9f9fa868d6a9072d27455"
   },
   "source": [
    "So now, the data is clean. Let's see the analysis"
   ]
  },
  {
   "cell_type": "code",
   "execution_count": 28,
   "metadata": {
    "_uuid": "ab4c291307b492a67ab43d0a910a7c964a627b19"
   },
   "outputs": [
    {
     "data": {
      "text/plain": [
       "Text(0.5,1,'Parch vs Survival Rate')"
      ]
     },
     "execution_count": 28,
     "metadata": {},
     "output_type": "execute_result"
    },
    {
     "data": {
      "image/png": "[encoded data removed]",
      "text/plain": [
       "<Figure size 432x288 with 1 Axes>"
      ]
     },
     "metadata": {},
     "output_type": "display_data"
    }
   ],
   "source": [
    "temp = titanic[(titanic.Survived!=-1)].groupby(\"Parch\")[\"Survived\"].value_counts(normalize = True).mul(100).reset_index(name = \"percentage\")\n",
    "sns.barplot(x=\"Parch\",y = \"percentage\",hue = \"Survived\",data = temp).set_title(\"Parch vs Survival Rate\")"
   ]
  },
  {
   "cell_type": "markdown",
   "metadata": {
    "_uuid": "dc96dace2b7ea64f097c85b4832ee39a610a94fc"
   },
   "source": [
    "Let's create is_par column, where if Parch!=0, is_par = 1, else is_par = 0"
   ]
  },
  {
   "cell_type": "code",
   "execution_count": 29,
   "metadata": {
    "_uuid": "5b92f7e8b2f725c1bc2ac68845b7124625e48c96"
   },
   "outputs": [],
   "source": [
    "Parch = titanic.Parch.tolist()\n",
    "is_par = [0 if item == 0 else 1 for item in Parch ]\n",
    "titanic[\"is_par\"] = is_par"
   ]
  },
  {
   "cell_type": "code",
   "execution_count": 30,
   "metadata": {
    "_uuid": "1030ae0e909f0495a8be2cf4f33878c2e32df2dc"
   },
   "outputs": [
    {
     "data": {
      "text/plain": [
       "Text(0.5,1,'SibSp - Survival rate')"
      ]
     },
     "execution_count": 30,
     "metadata": {},
     "output_type": "execute_result"
    },
    {
     "data": {
      "image/png": "[encoded data removed]",
      "text/plain": [
       "<Figure size 432x288 with 1 Axes>"
      ]
     },
     "metadata": {},
     "output_type": "display_data"
    }
   ],
   "source": [
    "temp = titanic[(titanic.Survived!=-1)].groupby(\"SibSp\")[\"Survived\"].value_counts(normalize = True).mul(100).reset_index(name = \"percentage\")\n",
    "sns.barplot(x=\"SibSp\",y = \"percentage\",hue = \"Survived\",data = temp).set_title(\"SibSp - Survival rate\")"
   ]
  },
  {
   "cell_type": "markdown",
   "metadata": {
    "_uuid": "172979f6ad73a39539ba8d4472b1f068837436b9"
   },
   "source": [
    "Let's apply the same for sibling also"
   ]
  },
  {
   "cell_type": "code",
   "execution_count": 31,
   "metadata": {
    "_uuid": "8c380a76aa938e1bcbcf6fd4f4646ef283c0dee5"
   },
   "outputs": [],
   "source": [
    "SibSp = titanic.SibSp.tolist()\n",
    "has_sib = [0 if item == 0 else 1 for item in SibSp ]\n",
    "titanic[\"has_sib\"] = has_sib"
   ]
  },
  {
   "cell_type": "code",
   "execution_count": 32,
   "metadata": {
    "_uuid": "36baea34a1924306949ade807275a8b841440124"
   },
   "outputs": [
    {
     "data": {
      "text/plain": [
       "<matplotlib.axes._subplots.AxesSubplot at 0x7f6c6eb7a828>"
      ]
     },
     "execution_count": 32,
     "metadata": {},
     "output_type": "execute_result"
    },
    {
     "data": {
      "image/png": "[encoded data removed]",
      "text/plain": [
       "<Figure size 432x288 with 1 Axes>"
      ]
     },
     "metadata": {},
     "output_type": "display_data"
    }
   ],
   "source": [
    "sns.countplot(x = \"Embarked\", hue = \"Survived\",data = titanic[titanic.Survived != -1])"
   ]
  },
  {
   "cell_type": "code",
   "execution_count": 33,
   "metadata": {
    "_uuid": "8c41a4b46dfc7a7e2f51df41bb3e0155465edbf8"
   },
   "outputs": [
    {
     "data": {
      "text/plain": [
       "Text(0.5,1,'SibSp - Survival rate')"
      ]
     },
     "execution_count": 33,
     "metadata": {},
     "output_type": "execute_result"
    },
    {
     "data": {
      "image/png": "[encoded data removed]",
      "text/plain": [
       "<Figure size 432x288 with 1 Axes>"
      ]
     },
     "metadata": {},
     "output_type": "display_data"
    }
   ],
   "source": [
    "temp = titanic[(titanic.Survived!=-1)].groupby(\"Pclass\")[\"Survived\"].value_counts(normalize = True).mul(100).reset_index(name = \"percentage\")\n",
    "sns.barplot(x=\"Pclass\",y = \"percentage\",hue = \"Survived\",data = temp).set_title(\"SibSp - Survival rate\")"
   ]
  },
  {
   "cell_type": "markdown",
   "metadata": {
    "_uuid": "3c4141916443a660c49a213406fd63a64e56aed1"
   },
   "source": [
    "Pclass \n",
    "* 1 -> 60% have survived\n",
    "* 2 -> 45% have survived\n",
    "* 3 -> 23% have survived"
   ]
  },
  {
   "cell_type": "code",
   "execution_count": 34,
   "metadata": {
    "_uuid": "7241f4bde732b1a932d75ffa8462cdff1d21fbed"
   },
   "outputs": [
    {
     "data": {
      "text/html": [
       "<div>\n",
       "<style scoped>\n",
       "    .dataframe tbody tr th:only-of-type {\n",
       "        vertical-align: middle;\n",
       "    }\n",
       "\n",
       "    .dataframe tbody tr th {\n",
       "        vertical-align: top;\n",
       "    }\n",
       "\n",
       "    .dataframe thead th {\n",
       "        text-align: right;\n",
       "    }\n",
       "</style>\n",
       "<table border=\"1\" class=\"dataframe\">\n",
       "  <thead>\n",
       "    <tr style=\"text-align: right;\">\n",
       "      <th></th>\n",
       "      <th>Age</th>\n",
       "      <th>Embarked</th>\n",
       "      <th>Fare</th>\n",
       "      <th>Name</th>\n",
       "      <th>Parch</th>\n",
       "      <th>Pclass</th>\n",
       "      <th>Sex</th>\n",
       "      <th>SibSp</th>\n",
       "      <th>Survived</th>\n",
       "      <th>title</th>\n",
       "      <th>is_par</th>\n",
       "      <th>has_sib</th>\n",
       "    </tr>\n",
       "  </thead>\n",
       "  <tbody>\n",
       "    <tr>\n",
       "      <th>714</th>\n",
       "      <td>52.000000</td>\n",
       "      <td>S</td>\n",
       "      <td>13.0000</td>\n",
       "      <td>Greenberg, Mr. Samuel</td>\n",
       "      <td>0</td>\n",
       "      <td>2</td>\n",
       "      <td>male</td>\n",
       "      <td>0</td>\n",
       "      <td>0</td>\n",
       "      <td>Mr</td>\n",
       "      <td>0</td>\n",
       "      <td>0</td>\n",
       "    </tr>\n",
       "    <tr>\n",
       "      <th>599</th>\n",
       "      <td>49.000000</td>\n",
       "      <td>C</td>\n",
       "      <td>56.9292</td>\n",
       "      <td>Duff Gordon, Sir. Cosmo Edmund (\"Mr Morgan\")</td>\n",
       "      <td>0</td>\n",
       "      <td>1</td>\n",
       "      <td>male</td>\n",
       "      <td>1</td>\n",
       "      <td>1</td>\n",
       "      <td>Sir</td>\n",
       "      <td>0</td>\n",
       "      <td>1</td>\n",
       "    </tr>\n",
       "    <tr>\n",
       "      <th>58</th>\n",
       "      <td>32.252151</td>\n",
       "      <td>S</td>\n",
       "      <td>16.1000</td>\n",
       "      <td>Davison, Mr. Thomas Henry</td>\n",
       "      <td>0</td>\n",
       "      <td>3</td>\n",
       "      <td>male</td>\n",
       "      <td>1</td>\n",
       "      <td>-1</td>\n",
       "      <td>Mr</td>\n",
       "      <td>0</td>\n",
       "      <td>1</td>\n",
       "    </tr>\n",
       "    <tr>\n",
       "      <th>129</th>\n",
       "      <td>24.000000</td>\n",
       "      <td>S</td>\n",
       "      <td>8.0500</td>\n",
       "      <td>Petersen, Mr. Marius</td>\n",
       "      <td>0</td>\n",
       "      <td>3</td>\n",
       "      <td>male</td>\n",
       "      <td>0</td>\n",
       "      <td>-1</td>\n",
       "      <td>Mr</td>\n",
       "      <td>0</td>\n",
       "      <td>0</td>\n",
       "    </tr>\n",
       "  </tbody>\n",
       "</table>\n",
       "</div>"
      ],
      "text/plain": [
       "           Age Embarked     Fare   ...    title  is_par  has_sib\n",
       "714  52.000000        S  13.0000   ...       Mr       0        0\n",
       "599  49.000000        C  56.9292   ...      Sir       0        1\n",
       "58   32.252151        S  16.1000   ...       Mr       0        1\n",
       "129  24.000000        S   8.0500   ...       Mr       0        0\n",
       "\n",
       "[4 rows x 12 columns]"
      ]
     },
     "execution_count": 34,
     "metadata": {},
     "output_type": "execute_result"
    }
   ],
   "source": [
    "titanic.sample(4)"
   ]
  },
  {
   "cell_type": "code",
   "execution_count": 35,
   "metadata": {
    "_uuid": "dc30da7b39812370abc36e43cb01e8ea8ec9d6a7"
   },
   "outputs": [
    {
     "data": {
      "text/html": [
       "<div>\n",
       "<style scoped>\n",
       "    .dataframe tbody tr th:only-of-type {\n",
       "        vertical-align: middle;\n",
       "    }\n",
       "\n",
       "    .dataframe tbody tr th {\n",
       "        vertical-align: top;\n",
       "    }\n",
       "\n",
       "    .dataframe thead th {\n",
       "        text-align: right;\n",
       "    }\n",
       "</style>\n",
       "<table border=\"1\" class=\"dataframe\">\n",
       "  <thead>\n",
       "    <tr style=\"text-align: right;\">\n",
       "      <th></th>\n",
       "      <th>Age</th>\n",
       "      <th>Fare</th>\n",
       "    </tr>\n",
       "    <tr>\n",
       "      <th>Survived</th>\n",
       "      <th></th>\n",
       "      <th></th>\n",
       "    </tr>\n",
       "  </thead>\n",
       "  <tbody>\n",
       "    <tr>\n",
       "      <th>0</th>\n",
       "      <td>30.678205</td>\n",
       "      <td>22.117887</td>\n",
       "    </tr>\n",
       "    <tr>\n",
       "      <th>1</th>\n",
       "      <td>28.301510</td>\n",
       "      <td>48.395408</td>\n",
       "    </tr>\n",
       "  </tbody>\n",
       "</table>\n",
       "</div>"
      ],
      "text/plain": [
       "                Age       Fare\n",
       "Survived                      \n",
       "0         30.678205  22.117887\n",
       "1         28.301510  48.395408"
      ]
     },
     "execution_count": 35,
     "metadata": {},
     "output_type": "execute_result"
    }
   ],
   "source": [
    "titanic[titanic.Survived!=-1].groupby(\"Survived\").mean()[[\"Age\",\"Fare\"]]"
   ]
  },
  {
   "cell_type": "markdown",
   "metadata": {
    "_uuid": "1290c2a0bd198abd60440162e31e0127eb865406"
   },
   "source": [
    "So, we consider Age and Fare attributes also for modeling."
   ]
  },
  {
   "cell_type": "markdown",
   "metadata": {
    "_uuid": "dbc0e3db44deb8fee36b6dc8636ffc292cb9e5be"
   },
   "source": [
    "For building the model, let's finalize the features."
   ]
  },
  {
   "cell_type": "code",
   "execution_count": 36,
   "metadata": {
    "_uuid": "e2c7d90f1660b779329ae08253eaa367013e65aa"
   },
   "outputs": [
    {
     "data": {
      "text/html": [
       "<div>\n",
       "<style scoped>\n",
       "    .dataframe tbody tr th:only-of-type {\n",
       "        vertical-align: middle;\n",
       "    }\n",
       "\n",
       "    .dataframe tbody tr th {\n",
       "        vertical-align: top;\n",
       "    }\n",
       "\n",
       "    .dataframe thead th {\n",
       "        text-align: right;\n",
       "    }\n",
       "</style>\n",
       "<table border=\"1\" class=\"dataframe\">\n",
       "  <thead>\n",
       "    <tr style=\"text-align: right;\">\n",
       "      <th></th>\n",
       "      <th>Age</th>\n",
       "      <th>Embarked</th>\n",
       "      <th>Fare</th>\n",
       "      <th>Pclass</th>\n",
       "      <th>Sex</th>\n",
       "      <th>Survived</th>\n",
       "      <th>is_par</th>\n",
       "      <th>has_sib</th>\n",
       "    </tr>\n",
       "  </thead>\n",
       "  <tbody>\n",
       "    <tr>\n",
       "      <th>75</th>\n",
       "      <td>32.5</td>\n",
       "      <td>C</td>\n",
       "      <td>211.5</td>\n",
       "      <td>1</td>\n",
       "      <td>male</td>\n",
       "      <td>-1</td>\n",
       "      <td>0</td>\n",
       "      <td>0</td>\n",
       "    </tr>\n",
       "  </tbody>\n",
       "</table>\n",
       "</div>"
      ],
      "text/plain": [
       "     Age Embarked   Fare  Pclass   Sex  Survived  is_par  has_sib\n",
       "75  32.5        C  211.5       1  male        -1       0        0"
      ]
     },
     "execution_count": 36,
     "metadata": {},
     "output_type": "execute_result"
    }
   ],
   "source": [
    "titanic.drop(columns=[\"Name\",\"Parch\",\"SibSp\",\"title\"], inplace=True)\n",
    "titanic.sample()"
   ]
  },
  {
   "cell_type": "code",
   "execution_count": 37,
   "metadata": {
    "_uuid": "379d43ffa04e428d171a036453a7f2bfa879761a"
   },
   "outputs": [
    {
     "data": {
      "text/html": [
       "<div>\n",
       "<style scoped>\n",
       "    .dataframe tbody tr th:only-of-type {\n",
       "        vertical-align: middle;\n",
       "    }\n",
       "\n",
       "    .dataframe tbody tr th {\n",
       "        vertical-align: top;\n",
       "    }\n",
       "\n",
       "    .dataframe thead th {\n",
       "        text-align: right;\n",
       "    }\n",
       "</style>\n",
       "<table border=\"1\" class=\"dataframe\">\n",
       "  <thead>\n",
       "    <tr style=\"text-align: right;\">\n",
       "      <th></th>\n",
       "      <th>Age</th>\n",
       "      <th>Fare</th>\n",
       "      <th>Sex</th>\n",
       "      <th>Survived</th>\n",
       "      <th>is_par</th>\n",
       "      <th>has_sib</th>\n",
       "      <th>Embarked_C</th>\n",
       "      <th>Embarked_Q</th>\n",
       "      <th>Embarked_S</th>\n",
       "      <th>Pclass_1</th>\n",
       "      <th>Pclass_2</th>\n",
       "      <th>Pclass_3</th>\n",
       "    </tr>\n",
       "  </thead>\n",
       "  <tbody>\n",
       "    <tr>\n",
       "      <th>513</th>\n",
       "      <td>54.0</td>\n",
       "      <td>59.4</td>\n",
       "      <td>0</td>\n",
       "      <td>1</td>\n",
       "      <td>0</td>\n",
       "      <td>1</td>\n",
       "      <td>1</td>\n",
       "      <td>0</td>\n",
       "      <td>0</td>\n",
       "      <td>1</td>\n",
       "      <td>0</td>\n",
       "      <td>0</td>\n",
       "    </tr>\n",
       "  </tbody>\n",
       "</table>\n",
       "</div>"
      ],
      "text/plain": [
       "      Age  Fare  Sex    ...     Pclass_1  Pclass_2  Pclass_3\n",
       "513  54.0  59.4    0    ...            1         0         0\n",
       "\n",
       "[1 rows x 12 columns]"
      ]
     },
     "execution_count": 37,
     "metadata": {},
     "output_type": "execute_result"
    }
   ],
   "source": [
    "titanic = pd.get_dummies(titanic, columns=[\"Embarked\",\"Pclass\"])\n",
    "titanic.Sex = titanic.Sex.map({\"male\":1,\"female\":0})\n",
    "titanic.sample()"
   ]
  },
  {
   "cell_type": "markdown",
   "metadata": {
    "_uuid": "adb52ac1e2a2f915797674108ff125c91e94c6ce"
   },
   "source": [
    "So now, The data is ready for modeling"
   ]
  },
  {
   "cell_type": "code",
   "execution_count": 38,
   "metadata": {
    "_uuid": "074dbab80b40e6ce1c74bd1e6852234929e753a2"
   },
   "outputs": [
    {
     "name": "stdout",
     "output_type": "stream",
     "text": [
      "best scores:  0.8666666666666667  at depth :  5\n",
      "best scores:  0.7666666666666667  at depth :  5\n",
      "best scores:  0.8222222222222222  at depth :  5\n",
      "best scores:  0.8666666666666667  at depth :  5\n",
      "best scores:  0.8666666666666667  at depth :  5\n",
      "best scores:  0.8777777777777778  at depth :  13\n",
      "best scores:  0.8  at depth :  7\n",
      "best scores:  0.7888888888888889  at depth :  6\n",
      "best scores:  0.8666666666666667  at depth :  8\n",
      "best scores:  0.7444444444444445  at depth :  11\n",
      "best scores:  0.8555555555555555  at depth :  5\n",
      "best scores:  0.8444444444444444  at depth :  6\n",
      "best scores:  0.8222222222222222  at depth :  5\n",
      "best scores:  0.8111111111111111  at depth :  5\n",
      "best scores:  0.8555555555555555  at depth :  12\n"
     ]
    }
   ],
   "source": [
    "titanic_training_y = titanic[titanic.Survived!=-1].Survived\n",
    "titanic_training_x = titanic[titanic.Survived!=-1].drop(columns = [\"Survived\"])\n",
    "from sklearn.model_selection import train_test_split\n",
    "for random in range(15):\n",
    "    train_x, test_x, train_y, test_y = train_test_split(titanic_training_x, titanic_training_y, test_size = 0.1)\n",
    "    from xgboost import XGBClassifier\n",
    "    from sklearn.metrics import accuracy_score\n",
    "    scores = []\n",
    "    for i in range(5,15):\n",
    "        model = XGBClassifier(max_depth = i)\n",
    "        model.fit(train_x, train_y)\n",
    "        target = model.predict(test_x)\n",
    "        score = accuracy_score(test_y, target)\n",
    "        scores.append(score)\n",
    "    print(\"best scores: \",max(scores), \" at depth : \",scores.index(max(scores))+5)"
   ]
  },
  {
   "cell_type": "markdown",
   "metadata": {
    "_uuid": "e31611d4b83c12dc9b7803113d6ade83a917b6ff"
   },
   "source": [
    "I would like to take depth as 6, and find the predictions"
   ]
  },
  {
   "cell_type": "code",
   "execution_count": 39,
   "metadata": {
    "_uuid": "93212428bc44e3aaadcbdc4a239a92f153c587e2"
   },
   "outputs": [
    {
     "name": "stdout",
     "output_type": "stream",
     "text": [
      "[0 0 0 1]\n",
      "    Age    Fare  Sex  is_par    ...     Embarked_S  Pclass_1  Pclass_2  Pclass_3\n",
      "0  34.5  7.8292    1       0    ...              0         0         0         1\n",
      "1  47.0  7.0000    0       0    ...              1         0         0         1\n",
      "2  62.0  9.6875    1       0    ...              0         0         1         0\n",
      "3  27.0  8.6625    1       0    ...              1         0         0         1\n",
      "\n",
      "[4 rows x 11 columns]\n"
     ]
    }
   ],
   "source": [
    "titanic_training_y = titanic[titanic.Survived!=-1].Survived\n",
    "titanic_training_x = titanic[titanic.Survived!=-1].drop(columns = [\"Survived\"])\n",
    "test_x = titanic[titanic.Survived==-1].drop(columns = [\"Survived\"])\n",
    "model = XGBClassifier(max_depth = i)\n",
    "model.fit(titanic_training_x, titanic_training_y)\n",
    "target = model.predict(test_x)\n",
    "print (target[:4])\n",
    "print (test_x[:4])"
   ]
  },
  {
   "cell_type": "code",
   "execution_count": 40,
   "metadata": {
    "_uuid": "2ef731364598e61d8aef5530ccf846853fe14e58"
   },
   "outputs": [],
   "source": [
    "titanic_test = pd.read_csv(\"../input/test.csv\")\n",
    "titanic_test = pd.DataFrame(titanic_test[\"PassengerId\"])\n",
    "titanic_test[\"Survived\"] = target\n",
    "titanic_test.head()\n",
    "titanic_test.to_csv(\"predictions.csv\")"
   ]
  },
  {
   "cell_type": "markdown",
   "metadata": {
    "_uuid": "24826bf97c8e638bcdb249daa98ee4f6b930eba3"
   },
   "source": [
    "Is there any better approach to improve the accuracy?"
   ]
  }
 ],
 "metadata": {
  "kernelspec": {
   "display_name": "Python 3",
   "language": "python",
   "name": "python3"
  },
  "language_info": {
   "codemirror_mode": {
    "name": "ipython",
    "version": 3
   },
   "file_extension": ".py",
   "mimetype": "text/x-python",
   "name": "python",
   "nbconvert_exporter": "python",
   "pygments_lexer": "ipython3",
   "version": "3.7.0"
  }
 },
 "nbformat": 4,
 "nbformat_minor": 1
}
